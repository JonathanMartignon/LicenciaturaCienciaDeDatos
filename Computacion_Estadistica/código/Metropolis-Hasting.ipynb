{
 "cells": [
  {
   "cell_type": "markdown",
   "metadata": {},
   "source": [
    "# Algoritmo Metrópolis Hastings\n",
    "Basado en: https://www.youtube.com/watch?v=aiPsbPxT29M"
   ]
  },
  {
   "cell_type": "markdown",
   "metadata": {},
   "source": [
    "# Librerías"
   ]
  },
  {
   "cell_type": "code",
   "execution_count": 1,
   "metadata": {},
   "outputs": [],
   "source": [
    "import numpy as np\n",
    "import matplotlib.pyplot as plt"
   ]
  },
  {
   "cell_type": "markdown",
   "metadata": {},
   "source": [
    "Realizando un muestreo de la normal:\n",
    "$$\n",
    "N(\\mu,\\sigma) = \\frac{1}{\\sqrt{2\\pi\\sigma^2}}e^{-\\frac{(x-\\mu)^2}{2\\sigma^2}}\n",
    "$$"
   ]
  },
  {
   "cell_type": "code",
   "execution_count": 2,
   "metadata": {},
   "outputs": [],
   "source": [
    "# Definimos la función de densidad\n",
    "def f(x, mu, std):\n",
    "    \n",
    "    primera_parte = 1 / ( np.sqrt(2*np.pi* np.power(std,2)) )\n",
    "    exponente = np.power( x - mu ,2) / (2*np.power(std,2))\n",
    "    total = primera_parte * np.exp(-exponente)\n",
    "    \n",
    "    return total"
   ]
  },
  {
   "cell_type": "markdown",
   "metadata": {},
   "source": [
    "Para la primera implementación, trabajaremos con\n",
    "- $\\mu = 0.2$ \n",
    "- $\\sigma = 0.1$"
   ]
  },
  {
   "cell_type": "code",
   "execution_count": 6,
   "metadata": {},
   "outputs": [],
   "source": [
    "mu = 0.2\n",
    "sigma = 0.1"
   ]
  },
  {
   "cell_type": "markdown",
   "metadata": {},
   "source": [
    "Para la propuesta, asumimos nuestro salto (h) como: $\\delta = 0.5$ y vamos a calcular la razón de aceptación "
   ]
  },
  {
   "cell_type": "code",
   "execution_count": 54,
   "metadata": {},
   "outputs": [],
   "source": [
    "delta = 0.1"
   ]
  },
  {
   "cell_type": "code",
   "execution_count": 55,
   "metadata": {},
   "outputs": [
    {
     "name": "stdout",
     "output_type": "stream",
     "text": [
      "La aceptación fue del 80.09 %\n"
     ]
    }
   ],
   "source": [
    "# Número de muestras\n",
    "n = 50000\n",
    "\n",
    "# Generamos un arreglo que almacenará nuestra cadena\n",
    "x = np.zeros(n)\n",
    "\n",
    "# Número en el que vamos empezar, podría no ser 0\n",
    "x[0] = 0\n",
    "\n",
    "# Cantidad de veces que aceptamos\n",
    "acept = 0\n",
    "\n",
    "# Recorremos en la cantidad n\n",
    "for i in range(n-1):\n",
    "    \n",
    "    # Corresponde al número donde estamos situados, más un número aleatorio\n",
    "    # entre [-delta,delta]\n",
    "    y = x[i] + np.random.uniform(-delta,delta)\n",
    "    \n",
    "    # Generamos un numero aleatorio U-[0,1]\n",
    "    u = np.random.rand()\n",
    "    \n",
    "    # Vemos \n",
    "    if u < min(1,f(y,mu,sigma)/f(x[i],mu,sigma)):\n",
    "        # Aceptamos y cambiamos de posición\n",
    "        x[i+1]=y\n",
    "        # Incrementamos contador\n",
    "        acept+=1\n",
    "    # En caso de no cumplir con la condición\n",
    "    else:\n",
    "        # Mantenemos nuestra posición\n",
    "        x[i+1] = x[i]\n",
    "        \n",
    "print(f\"La aceptación fue del {round(acept/n*100,2)} %\")"
   ]
  },
  {
   "cell_type": "code",
   "execution_count": 56,
   "metadata": {},
   "outputs": [
    {
     "data": {
      "image/png": "[encoded data removed]",
      "text/plain": [
       "<Figure size 432x288 with 1 Axes>"
      ]
     },
     "metadata": {
      "needs_background": "light"
     },
     "output_type": "display_data"
    }
   ],
   "source": [
    "plt.hist(x,density=True,bins=30)\n",
    "xs = np.linspace(-1,1,100)\n",
    "plt.plot(xs,f(xs,mu,sigma))\n",
    "plt.show()"
   ]
  },
  {
   "cell_type": "code",
   "execution_count": 57,
   "metadata": {},
   "outputs": [
    {
     "data": {
      "text/plain": [
       "array([0.        , 0.        , 0.        , ..., 0.38236963, 0.38029137,\n",
       "       0.38029137])"
      ]
     },
     "execution_count": 57,
     "metadata": {},
     "output_type": "execute_result"
    }
   ],
   "source": [
    "# Mostramos nuestra cadena\n",
    "x"
   ]
  },
  {
   "cell_type": "code",
   "execution_count": 58,
   "metadata": {},
   "outputs": [
    {
     "data": {
      "text/plain": [
       "0.20175949617944178"
      ]
     },
     "execution_count": 58,
     "metadata": {},
     "output_type": "execute_result"
    }
   ],
   "source": [
    "# La media de la cadena \n",
    "np.mean(x)"
   ]
  },
  {
   "cell_type": "code",
   "execution_count": 59,
   "metadata": {},
   "outputs": [
    {
     "data": {
      "text/plain": [
       "0.10054971280128248"
      ]
     },
     "execution_count": 59,
     "metadata": {},
     "output_type": "execute_result"
    }
   ],
   "source": [
    "# La desviación estándar de la cadena\n",
    "np.std(x)"
   ]
  },
  {
   "cell_type": "code",
   "execution_count": 71,
   "metadata": {},
   "outputs": [
    {
     "data": {
      "text/plain": [
       "[<matplotlib.lines.Line2D at 0x7f4c10016460>]"
      ]
     },
     "execution_count": 71,
     "metadata": {},
     "output_type": "execute_result"
    },
    {
     "data": {
      "image/png": "[encoded data removed]",
      "text/plain": [
       "<Figure size 432x288 with 1 Axes>"
      ]
     },
     "metadata": {
      "needs_background": "light"
     },
     "output_type": "display_data"
    }
   ],
   "source": [
    "plt.plot(x[:8])"
   ]
  },
  {
   "cell_type": "markdown",
   "metadata": {},
   "source": [
    "Viéndolo en camara lenta"
   ]
  },
  {
   "cell_type": "code",
   "execution_count": 47,
   "metadata": {},
   "outputs": [],
   "source": [
    "from scipy.stats import norm"
   ]
  },
  {
   "cell_type": "code",
   "execution_count": 48,
   "metadata": {},
   "outputs": [],
   "source": [
    "n = 50000\n",
    "x = np.zeros(n)\n",
    "x[0]=0"
   ]
  },
  {
   "cell_type": "code",
   "execution_count": 51,
   "metadata": {},
   "outputs": [
    {
     "name": "stdout",
     "output_type": "stream",
     "text": [
      "Valor Actual = 0.0. Valor Propuesto 0.4530619766387579\n",
      "Razón de Hasting = 0.30058695443772526\n",
      "Número aleatorio: 0.5207120769181109\n",
      "Siguiente valor: 0.0\n",
      "\n",
      "\n",
      "Valor Actual = 0.0. Valor Propuesto 0.044822403557341045\n",
      "Razón de Hasting = 2.216646965274274\n",
      "Número aleatorio: 0.038132922584685924\n",
      "Siguiente valor: 0.044822403557341045\n",
      "\n",
      "\n",
      "Valor Actual = 0.044822403557341045. Valor Propuesto -0.08364225741447676\n",
      "Razón de Hasting = 0.059686931363967355\n",
      "Número aleatorio: 0.9758946512450188\n",
      "Siguiente valor: 0.044822403557341045\n",
      "\n",
      "\n",
      "Valor Actual = 0.044822403557341045. Valor Propuesto 0.3330764450492041\n",
      "Razón de Hasting = 1.3751149265062925\n",
      "Número aleatorio: 0.9997342122220237\n",
      "Siguiente valor: 0.3330764450492041\n",
      "\n",
      "\n",
      "Valor Actual = 0.3330764450492041. Valor Propuesto 0.4611403052617784\n",
      "Razón de Hasting = 0.08011870430346525\n",
      "Número aleatorio: 0.6538582011931874\n",
      "Siguiente valor: 0.3330764450492041\n",
      "\n",
      "\n"
     ]
    }
   ],
   "source": [
    "for i in range(5):\n",
    "    \n",
    "    xc = np.random.normal(x[i],0.2)\n",
    "    print(f\"Valor Actual = {x[i]}. Valor Propuesto {xc}\")\n",
    "    print(f\"Razón de Hasting = {norm.pdf(xc,mu,sigma)/norm.pdf(x[i],mu,sigma)}\")\n",
    "    U = np.random.rand()\n",
    "    print(f\"Número aleatorio: {U}\")\n",
    "    if U < min(1, norm.pdf(xc,mu,sigma)/norm.pdf(x[i],mu,1.2)):\n",
    "        x[i+1] = xc\n",
    "    else:\n",
    "        x[i+1] = x[i]\n",
    "    print(f\"Siguiente valor: {x[i+1]}\")\n",
    "    print()\n",
    "    print()"
   ]
  }
 ],
 "metadata": {
  "kernelspec": {
   "display_name": "Python 3",
   "language": "python",
   "name": "python3"
  },
  "language_info": {
   "codemirror_mode": {
    "name": "ipython",
    "version": 3
   },
   "file_extension": ".py",
   "mimetype": "text/x-python",
   "name": "python",
   "nbconvert_exporter": "python",
   "pygments_lexer": "ipython3",
   "version": "3.8.5"
  }
 },
 "nbformat": 4,
 "nbformat_minor": 4
}
