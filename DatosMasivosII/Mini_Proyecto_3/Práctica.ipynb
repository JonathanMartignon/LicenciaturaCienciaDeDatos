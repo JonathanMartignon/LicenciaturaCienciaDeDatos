{
 "cells": [
  {
   "cell_type": "markdown",
   "metadata": {},
   "source": [
    "# Mini Proyecto - 3\n",
    "## Martiñón Luna Jonathan José\n",
    "### Diciembre 1, 2020\n",
    "### Licenciatura en ciencia de datos"
   ]
  },
  {
   "cell_type": "markdown",
   "metadata": {},
   "source": [
    "**Objetivo del mini-proyecto:**\n",
    "\n",
    "Usando el algoritmo de Page Rank y la base de datos que se te fue asignada, calcula la relevancia de los nodos a partir de la relevancia de los enlaces entrantes.\n"
   ]
  },
  {
   "cell_type": "markdown",
   "metadata": {},
   "source": [
    "---\n",
    "\n",
    "## Sobre los datos\n",
    "\" *Slashdot es un sitio web de noticias relacionadas con la tecnología conocido por su comunidad de usuarios específica. El sitio web presenta noticias de actualidad principalmente orientadas a la tecnología, enviadas por los usuarios y evaluadas por el editor. En 2002, Slashdot introdujo la función Slashdot Zoo que permite a los usuarios etiquetarse entre sí como amigos o enemigos. La red contiene vínculos amigos / enemigos entre los usuarios de Slashdot. La red se obtuvo en febrero de 2009.* \"\n",
    "\n",
    "- 948, 464 aristas\n",
    "- 78, 441 Nodos origen (únicos)\n",
    "- 82, 168 Nodos destino (únicos)\n",
    "- 82, 168 Nodos totales (únicos)\n",
    "- 3,727   Callejones"
   ]
  },
  {
   "cell_type": "markdown",
   "metadata": {},
   "source": [
    "---\n",
    "## Librerías"
   ]
  },
  {
   "cell_type": "code",
   "execution_count": 1,
   "metadata": {},
   "outputs": [],
   "source": [
    "import pandas as pd\n",
    "import networkx as nx\n",
    "from matplotlib import pyplot as plt\n",
    "from collections import Counter\n",
    "import numpy as np\n",
    "from scipy.sparse import csr_matrix,bsr_matrix\n",
    "from time import time"
   ]
  },
  {
   "cell_type": "code",
   "execution_count": 2,
   "metadata": {},
   "outputs": [],
   "source": [
    "# Leemos nuestros datos. \n",
    "# los primeros 3 renglones son comentarios que no necesitamos\n",
    "data = pd.read_csv ('./Slashdot0902.txt',delimiter=\"\\t\",skiprows=[0,1,2])"
   ]
  },
  {
   "cell_type": "code",
   "execution_count": 3,
   "metadata": {},
   "outputs": [
    {
     "name": "stdout",
     "output_type": "stream",
     "text": [
      "<class 'pandas.core.frame.DataFrame'>\n"
     ]
    },
    {
     "data": {
      "text/html": [
       "<div>\n",
       "<style scoped>\n",
       "    .dataframe tbody tr th:only-of-type {\n",
       "        vertical-align: middle;\n",
       "    }\n",
       "\n",
       "    .dataframe tbody tr th {\n",
       "        vertical-align: top;\n",
       "    }\n",
       "\n",
       "    .dataframe thead th {\n",
       "        text-align: right;\n",
       "    }\n",
       "</style>\n",
       "<table border=\"1\" class=\"dataframe\">\n",
       "  <thead>\n",
       "    <tr style=\"text-align: right;\">\n",
       "      <th></th>\n",
       "      <th># FromNodeId</th>\n",
       "      <th>ToNodeId</th>\n",
       "    </tr>\n",
       "  </thead>\n",
       "  <tbody>\n",
       "    <tr>\n",
       "      <th>0</th>\n",
       "      <td>0</td>\n",
       "      <td>0</td>\n",
       "    </tr>\n",
       "    <tr>\n",
       "      <th>1</th>\n",
       "      <td>0</td>\n",
       "      <td>1</td>\n",
       "    </tr>\n",
       "    <tr>\n",
       "      <th>2</th>\n",
       "      <td>0</td>\n",
       "      <td>2</td>\n",
       "    </tr>\n",
       "    <tr>\n",
       "      <th>3</th>\n",
       "      <td>0</td>\n",
       "      <td>3</td>\n",
       "    </tr>\n",
       "    <tr>\n",
       "      <th>4</th>\n",
       "      <td>0</td>\n",
       "      <td>4</td>\n",
       "    </tr>\n",
       "    <tr>\n",
       "      <th>...</th>\n",
       "      <td>...</td>\n",
       "      <td>...</td>\n",
       "    </tr>\n",
       "    <tr>\n",
       "      <th>948459</th>\n",
       "      <td>82165</td>\n",
       "      <td>82165</td>\n",
       "    </tr>\n",
       "    <tr>\n",
       "      <th>948460</th>\n",
       "      <td>82165</td>\n",
       "      <td>82166</td>\n",
       "    </tr>\n",
       "    <tr>\n",
       "      <th>948461</th>\n",
       "      <td>82166</td>\n",
       "      <td>82131</td>\n",
       "    </tr>\n",
       "    <tr>\n",
       "      <th>948462</th>\n",
       "      <td>82166</td>\n",
       "      <td>82165</td>\n",
       "    </tr>\n",
       "    <tr>\n",
       "      <th>948463</th>\n",
       "      <td>82166</td>\n",
       "      <td>82166</td>\n",
       "    </tr>\n",
       "  </tbody>\n",
       "</table>\n",
       "<p>948464 rows × 2 columns</p>\n",
       "</div>"
      ],
      "text/plain": [
       "        # FromNodeId  ToNodeId\n",
       "0                  0         0\n",
       "1                  0         1\n",
       "2                  0         2\n",
       "3                  0         3\n",
       "4                  0         4\n",
       "...              ...       ...\n",
       "948459         82165     82165\n",
       "948460         82165     82166\n",
       "948461         82166     82131\n",
       "948462         82166     82165\n",
       "948463         82166     82166\n",
       "\n",
       "[948464 rows x 2 columns]"
      ]
     },
     "execution_count": 3,
     "metadata": {},
     "output_type": "execute_result"
    }
   ],
   "source": [
    "print(type(data)) # Mostramos el tipo de dato\n",
    "data # imprimimos nuestro dataframe"
   ]
  },
  {
   "cell_type": "code",
   "execution_count": 4,
   "metadata": {},
   "outputs": [
    {
     "data": {
      "text/plain": [
       "78441"
      ]
     },
     "execution_count": 4,
     "metadata": {},
     "output_type": "execute_result"
    }
   ],
   "source": [
    "len(data['# FromNodeId'].unique()) # Mostramos la cantidad de nodos 'origen' únicos"
   ]
  },
  {
   "cell_type": "code",
   "execution_count": 5,
   "metadata": {},
   "outputs": [
    {
     "data": {
      "text/plain": [
       "82168"
      ]
     },
     "execution_count": 5,
     "metadata": {},
     "output_type": "execute_result"
    }
   ],
   "source": [
    "len(data['ToNodeId'].unique()) # Mostramos la cantidad de nodos 'destino' únicos"
   ]
  },
  {
   "cell_type": "code",
   "execution_count": 6,
   "metadata": {},
   "outputs": [],
   "source": [
    "# Concatenamos nodos origen y destino\n",
    "nodos = np.concatenate( (data['ToNodeId'].unique(), data['# FromNodeId'].unique()), axis=0)"
   ]
  },
  {
   "cell_type": "code",
   "execution_count": 7,
   "metadata": {},
   "outputs": [
    {
     "name": "stdout",
     "output_type": "stream",
     "text": [
      "Contamos con un total de 82168 nodos totales\n"
     ]
    }
   ],
   "source": [
    "# Obtenemos los nodos únicos de los totales\n",
    "print(f\"Contamos con un total de {len(np.unique(nodos))} nodos totales\")"
   ]
  },
  {
   "cell_type": "code",
   "execution_count": 8,
   "metadata": {},
   "outputs": [
    {
     "data": {
      "text/plain": [
       "82167"
      ]
     },
     "execution_count": 8,
     "metadata": {},
     "output_type": "execute_result"
    }
   ],
   "source": [
    "max(nodos) # Aquí sabemos que nuestros nodos van de 0 a nodos-1 (82,1687)"
   ]
  },
  {
   "cell_type": "code",
   "execution_count": 9,
   "metadata": {},
   "outputs": [
    {
     "data": {
      "text/plain": [
       "# FromNodeId    int64\n",
       "ToNodeId        int64\n",
       "dtype: object"
      ]
     },
     "execution_count": 9,
     "metadata": {},
     "output_type": "execute_result"
    }
   ],
   "source": [
    "data.dtypes # Vemos nuestros tipos de datos"
   ]
  },
  {
   "cell_type": "code",
   "execution_count": 10,
   "metadata": {},
   "outputs": [
    {
     "data": {
      "text/plain": [
       "# FromNodeId    0\n",
       "ToNodeId        0\n",
       "dtype: int64"
      ]
     },
     "execution_count": 10,
     "metadata": {},
     "output_type": "execute_result"
    }
   ],
   "source": [
    "data.isnull().sum() # Verificamos nulos"
   ]
  },
  {
   "cell_type": "markdown",
   "metadata": {},
   "source": [
    "Me pareció interesante ver la distribución de nuestros nodos. Podemos observar que para los orígenes, la mayoría están ubicados entre los 10,000 ID's (aproximadamente); Lo mismo sucede para los nodos 'destino'."
   ]
  },
  {
   "cell_type": "code",
   "execution_count": 11,
   "metadata": {},
   "outputs": [
    {
     "data": {
      "image/png": "[encoded data removed]",
      "text/plain": [
       "<Figure size 432x288 with 1 Axes>"
      ]
     },
     "metadata": {
      "needs_background": "light"
     },
     "output_type": "display_data"
    }
   ],
   "source": [
    "data['# FromNodeId'].hist(bins=100)\n",
    "plt.show()"
   ]
  },
  {
   "cell_type": "code",
   "execution_count": 12,
   "metadata": {},
   "outputs": [
    {
     "data": {
      "image/png": "[encoded data removed]",
      "text/plain": [
       "<Figure size 432x288 with 1 Axes>"
      ]
     },
     "metadata": {
      "needs_background": "light"
     },
     "output_type": "display_data"
    }
   ],
   "source": [
    "data['ToNodeId'].hist(bins=100)\n",
    "plt.show()"
   ]
  },
  {
   "cell_type": "markdown",
   "metadata": {},
   "source": [
    "## Preparando los datos"
   ]
  },
  {
   "cell_type": "code",
   "execution_count": 13,
   "metadata": {},
   "outputs": [
    {
     "data": {
      "text/html": [
       "<div>\n",
       "<style scoped>\n",
       "    .dataframe tbody tr th:only-of-type {\n",
       "        vertical-align: middle;\n",
       "    }\n",
       "\n",
       "    .dataframe tbody tr th {\n",
       "        vertical-align: top;\n",
       "    }\n",
       "\n",
       "    .dataframe thead th {\n",
       "        text-align: right;\n",
       "    }\n",
       "</style>\n",
       "<table border=\"1\" class=\"dataframe\">\n",
       "  <thead>\n",
       "    <tr style=\"text-align: right;\">\n",
       "      <th></th>\n",
       "      <th># FromNodeId</th>\n",
       "      <th>ToNodeId</th>\n",
       "    </tr>\n",
       "  </thead>\n",
       "  <tbody>\n",
       "    <tr>\n",
       "      <th>0</th>\n",
       "      <td>0</td>\n",
       "      <td>0</td>\n",
       "    </tr>\n",
       "    <tr>\n",
       "      <th>1</th>\n",
       "      <td>0</td>\n",
       "      <td>1</td>\n",
       "    </tr>\n",
       "    <tr>\n",
       "      <th>2</th>\n",
       "      <td>0</td>\n",
       "      <td>2</td>\n",
       "    </tr>\n",
       "    <tr>\n",
       "      <th>3</th>\n",
       "      <td>0</td>\n",
       "      <td>3</td>\n",
       "    </tr>\n",
       "    <tr>\n",
       "      <th>4</th>\n",
       "      <td>0</td>\n",
       "      <td>4</td>\n",
       "    </tr>\n",
       "  </tbody>\n",
       "</table>\n",
       "</div>"
      ],
      "text/plain": [
       "   # FromNodeId  ToNodeId\n",
       "0             0         0\n",
       "1             0         1\n",
       "2             0         2\n",
       "3             0         3\n",
       "4             0         4"
      ]
     },
     "execution_count": 13,
     "metadata": {},
     "output_type": "execute_result"
    }
   ],
   "source": [
    "data.head()"
   ]
  },
  {
   "cell_type": "code",
   "execution_count": 14,
   "metadata": {},
   "outputs": [],
   "source": [
    "data.columns = ['FromNodeId','ToNodeId']"
   ]
  },
  {
   "cell_type": "code",
   "execution_count": 15,
   "metadata": {},
   "outputs": [
    {
     "data": {
      "text/html": [
       "<div>\n",
       "<style scoped>\n",
       "    .dataframe tbody tr th:only-of-type {\n",
       "        vertical-align: middle;\n",
       "    }\n",
       "\n",
       "    .dataframe tbody tr th {\n",
       "        vertical-align: top;\n",
       "    }\n",
       "\n",
       "    .dataframe thead th {\n",
       "        text-align: right;\n",
       "    }\n",
       "</style>\n",
       "<table border=\"1\" class=\"dataframe\">\n",
       "  <thead>\n",
       "    <tr style=\"text-align: right;\">\n",
       "      <th></th>\n",
       "      <th>FromNodeId</th>\n",
       "      <th>ToNodeId</th>\n",
       "    </tr>\n",
       "  </thead>\n",
       "  <tbody>\n",
       "    <tr>\n",
       "      <th>0</th>\n",
       "      <td>0</td>\n",
       "      <td>0</td>\n",
       "    </tr>\n",
       "    <tr>\n",
       "      <th>1</th>\n",
       "      <td>0</td>\n",
       "      <td>1</td>\n",
       "    </tr>\n",
       "    <tr>\n",
       "      <th>2</th>\n",
       "      <td>0</td>\n",
       "      <td>2</td>\n",
       "    </tr>\n",
       "    <tr>\n",
       "      <th>3</th>\n",
       "      <td>0</td>\n",
       "      <td>3</td>\n",
       "    </tr>\n",
       "    <tr>\n",
       "      <th>4</th>\n",
       "      <td>0</td>\n",
       "      <td>4</td>\n",
       "    </tr>\n",
       "  </tbody>\n",
       "</table>\n",
       "</div>"
      ],
      "text/plain": [
       "   FromNodeId  ToNodeId\n",
       "0           0         0\n",
       "1           0         1\n",
       "2           0         2\n",
       "3           0         3\n",
       "4           0         4"
      ]
     },
     "execution_count": 15,
     "metadata": {},
     "output_type": "execute_result"
    }
   ],
   "source": [
    "data.head()"
   ]
  },
  {
   "cell_type": "markdown",
   "metadata": {},
   "source": [
    "# Algoritmo PageRank"
   ]
  },
  {
   "cell_type": "markdown",
   "metadata": {},
   "source": [
    "### Detectando ''trampas de araña''"
   ]
  },
  {
   "cell_type": "code",
   "execution_count": 16,
   "metadata": {},
   "outputs": [],
   "source": [
    "def trampa_araña(aristas):\n",
    "    '''\n",
    "    @Autor: \n",
    "    Jonathan Martiñón\n",
    "    \n",
    "    @Descripción:\n",
    "    Función que recibe lista de tuplas representado cada arista.\n",
    "    El objetivo será encontrar aquellos con el mismo punto (y,y),\n",
    "    y devolverlas.\n",
    "    \n",
    "    @Parámetros:\n",
    "    aristas     Lista de tuplas con 2 elementos (x,y) que representan una arista    LIST\n",
    "    destino     Lista con aquellos nodos que resultan en destino de una arista      LIST\n",
    "    \n",
    "    @Devuelve:\n",
    "    arañas      Lista de arañas encontradas    LIST\n",
    "    \n",
    "    @Ejemplos:\n",
    "    -----------\n",
    "    \n",
    "    aux = [(1,0),(2,0),(2,2),(6,6),(4,6),(1,4),(1,1)]\n",
    "    trampa_araña(aux)\n",
    "    >>> [6]\n",
    "    \n",
    "    -----------\n",
    "    \n",
    "    aux = [(1,0),(2,0)]\n",
    "    trampa_araña(aux)\n",
    "    >>> []\n",
    "    \n",
    "    -----------\n",
    "    '''\n",
    "    \n",
    "    unique_aristas = list(set(aristas)) # Eliminaremos aquellas aristas repetidas\n",
    "    arañas_cand =[] # Nuestra lista de arañas candidatas\n",
    "\n",
    "    for i in range(len(unique_aristas)): # Ciclo que evaluará todas las aristas\n",
    "        \n",
    "        if unique_aristas[i][0] == unique_aristas[i][1]: # Si el valor de origen es igual al del destino\n",
    "            arañas_cand.append(unique_aristas[i][0]) # Añadimos la 'araña candidata'\n",
    "            \n",
    "    # Una vez que tenemos nuestras 'arañas' candidatas, procedemos a eliminar repetidos\n",
    "    unique_arañas = list(set(arañas_cand))\n",
    "    \n",
    "    # Ahora, para estar seguros que es una araña, contaremos todos aquellos cuyo origen sea nuestra 'araña'\n",
    "    # y aparezca únicamente 1 vez, eso quiere decir que es una trampa de araña\n",
    "    \n",
    "    origen = [arista[0] for arista in unique_aristas] # Almacenaremos los orígenes una vez que tenemos aristas únicas \n",
    "    \n",
    "    origen_freqs = Counter(origen) # Creamos un diccionario con el nodo y la cantidad de veces que es origen\n",
    "    \n",
    "    arañas = [] # Lista que almacenará las arañas finales\n",
    "    \n",
    "    # Crearemos un ciclo que comparará las arañas candidatas y verificará si tienen más de 1 origen.\n",
    "    for araña in unique_arañas:\n",
    "        if origen_freqs[araña] == 1: # Si el origen sólo aparece 1 vez en nuestra lista, es una trampa\n",
    "            arañas.append(araña) # Añadimos la trampa a nuestras trampas finales.\n",
    "    \n",
    "    return arañas"
   ]
  },
  {
   "cell_type": "code",
   "execution_count": 17,
   "metadata": {},
   "outputs": [],
   "source": [
    "# Convertimos nuestro dataframe a tuplas y eso lo pasamos a una lista\n",
    "data_tuples = data.to_records(index=False).tolist()"
   ]
  },
  {
   "cell_type": "code",
   "execution_count": 18,
   "metadata": {},
   "outputs": [],
   "source": [
    "arañas = trampa_araña(data_tuples) # Llamamos a nuestra función para detectar arañas."
   ]
  },
  {
   "cell_type": "code",
   "execution_count": 19,
   "metadata": {},
   "outputs": [
    {
     "name": "stdout",
     "output_type": "stream",
     "text": [
      "Contamos con 6550 trampas de araña\n"
     ]
    }
   ],
   "source": [
    "print(f\"Contamos con {len(arañas)} trampas de araña\") # Mostramos la cantidad de trampas de arañas"
   ]
  },
  {
   "cell_type": "code",
   "execution_count": 20,
   "metadata": {},
   "outputs": [
    {
     "name": "stdout",
     "output_type": "stream",
     "text": [
      "Algunas de nuestras arañas son los nodos [2618, 3174, 3175, 3181, 4894]\n"
     ]
    }
   ],
   "source": [
    "print(f\"Algunas de nuestras arañas son los nodos {arañas[0:5]}\") # Mostramos algunas arañas"
   ]
  },
  {
   "cell_type": "markdown",
   "metadata": {},
   "source": [
    "### Detectando callejones"
   ]
  },
  {
   "cell_type": "code",
   "execution_count": 21,
   "metadata": {},
   "outputs": [],
   "source": [
    "def detecta_callejones(origen, destino):\n",
    "    '''\n",
    "    @Autor:\n",
    "    Jonathan Martiñón\n",
    "    \n",
    "    @Descripción:\n",
    "    Función encargada de encontrar ''callejones sin salida'', es decir\n",
    "    aquellos nodos que no llevan a ningún lado. Resulta en una simple\n",
    "    comparación de listas entre aquellos que reciben, pero no mandan.\n",
    "    \n",
    "    Las 2 listas DEBEN TENER MISMA LONGITUD, puesto que la arista 0 será\n",
    "    las coordenadas de origen[0] y destino[0], por lo que arista 'n' será\n",
    "    origen[n] y destino[n]\n",
    "    \n",
    "    @Parámetros:\n",
    "    origen      Lista con aquellos nodos que resultan en origen de una arista    LIST\n",
    "    destino     Lista con aquellos nodos que resultan en destino de una arista   LIST\n",
    "    \n",
    "    @Devuelve:\n",
    "    callejones  Lista de los nodos callejones                                    LIST\n",
    "    \n",
    "    @Ejemplos:\n",
    "    ----------------\n",
    "    origen = [6,8,2,1,5]\n",
    "    destino = [4,2,3,4,3]\n",
    "    detecta_callejones(origen,destino)\n",
    "    >>> [3, 4]\n",
    "    ----------------\n",
    "    origen = [4,2,3,4,3]\n",
    "    destino = [6,8,2,1,5]\n",
    "    detecta_callejones(origen,destino)\n",
    "    >>> [1,5,6,8]\n",
    "    ----------------\n",
    "    '''\n",
    "    \n",
    "    # Nos interesan los valores únicos para evitar evaluar\n",
    "    # un valor más de una vez\n",
    "    \n",
    "    unique_origen = list(set(origen)) # Obtenemos orígenes únicos\n",
    "    unique_destino = list(set(destino)) # Obtenemos destinos únicos\n",
    "    \n",
    "    posiciones = [] # Posiciones dónde se encuentra un callejón\n",
    "    callejones = [] # Valores que representan un callejón\n",
    "    \n",
    "    # Realizaremos un ciclo encargado de buscar aquellos valores que sean destino\n",
    "    # Pero no lleven a ningún otro lado (sean origen).\n",
    "    \n",
    "    for dest in unique_destino:\n",
    "        \n",
    "        if not dest in unique_origen: # En caso de que el destino no sea origen, quiere decir que es un callejón\n",
    "            callejones.append(dest) # Agregamos el callejón detectado\n",
    "            \n",
    "    #Finalmente devolvemos la cantidad de callejones y los nodos callejones.\n",
    "    return callejones\n",
    "            "
   ]
  },
  {
   "cell_type": "code",
   "execution_count": 22,
   "metadata": {},
   "outputs": [],
   "source": [
    "callejones = detecta_callejones(data['FromNodeId'],data['ToNodeId']) # Llamamos a nuestra función"
   ]
  },
  {
   "cell_type": "code",
   "execution_count": 23,
   "metadata": {},
   "outputs": [
    {
     "name": "stdout",
     "output_type": "stream",
     "text": [
      "Contamos con un total de 3727 callejones\n"
     ]
    }
   ],
   "source": [
    "print(f\"Contamos con un total de {len(callejones)} callejones\")"
   ]
  },
  {
   "cell_type": "code",
   "execution_count": 24,
   "metadata": {},
   "outputs": [
    {
     "name": "stdout",
     "output_type": "stream",
     "text": [
      "Algunos Nodos callejones son: los nodos [2, 219, 228, 402, 448]\n"
     ]
    }
   ],
   "source": [
    "print(f\"Algunos Nodos callejones son: los nodos {callejones[0:5]}\")"
   ]
  },
  {
   "cell_type": "markdown",
   "metadata": {},
   "source": [
    "## Hasta el momento...\n",
    "En este punto, somo conscientes que dentro de nuestros datos existen:\n",
    "- 6,550 trampas de araña\n",
    "- 3,727 Callejones"
   ]
  },
  {
   "cell_type": "markdown",
   "metadata": {},
   "source": [
    "# Implementando PageRank"
   ]
  },
  {
   "cell_type": "markdown",
   "metadata": {},
   "source": [
    "Se utilizaron las funciones de pagerank implementadas en clase, lo único que se modificó es que cada una recibirá la matriz de adyacencia ''normal'', y, dependiendo de cada caso, es que se encargará de modificar la matriz."
   ]
  },
  {
   "cell_type": "code",
   "execution_count": 25,
   "metadata": {},
   "outputs": [],
   "source": [
    "#PageRank normal\n",
    "def pagerank(M, iter=100):\n",
    "    inicio = time()\n",
    "    n = M.shape[0]\n",
    "    r = np.ones(n) / n\n",
    "    for i in range(iter):\n",
    "        print('Iteración {0}: r = {1}'.format(i,r))\n",
    "        r = M @ r\n",
    "    print(f\"Tardó: {round(time() - inicio,3)} segundos\")\n",
    "    return r\n",
    "\n",
    "#PageRank escalable\n",
    "def pagerank_escalable_nocss(M3, beta = 0.8, iter=100):\n",
    "    inicio = time()\n",
    "    M = csr_matrix(M3)\n",
    "    n = M.shape[0]\n",
    "    r = np.ones(n) / n\n",
    "    umbn = (1 - beta) / n\n",
    "    for i in range(iter):\n",
    "        print('Iteración {0}: r = {1}'.format(i,r))\n",
    "        rhat = beta * M @ r\n",
    "        r = rhat + umbn\n",
    "        \n",
    "    print(f\"Tardó: {round(time() - inicio,3)} segundos\")\n",
    "    return r\n",
    "\n",
    "#PageRank escalable con callejones\n",
    "def pagerank_escalable_css(M, beta = 0.8, iter=20):\n",
    "    inicio = time()\n",
    "    n = M.shape[0]\n",
    "    r = np.ones(n) / n\n",
    "    for i in range(iter):\n",
    "        print('Iteración {0}: r = {1}'.format(i,r))\n",
    "        rhat = beta * M @ r\n",
    "        umrsn = (1 - rhat.sum()) / n\n",
    "        r = rhat + umrsn\n",
    "        \n",
    "    print(f\"Tardó: {round(time() - inicio,3)} segundos\")\n",
    "    return r"
   ]
  },
  {
   "cell_type": "markdown",
   "metadata": {},
   "source": [
    "**Necesitamos una función encargada de convertir nuestras uniones a una matriz**"
   ]
  },
  {
   "cell_type": "code",
   "execution_count": 26,
   "metadata": {},
   "outputs": [],
   "source": [
    "def nodes_to_matrix(aristas):\n",
    "    '''\n",
    "    @Autor:\n",
    "    Jonathan Martiñón\n",
    "    \n",
    "    @Descripción:\n",
    "    Función encargada de convertir un grafo a una matriz de adyacencia.\n",
    "    Los nodos deberán ir de 0 a n-1 y ser enteros.\n",
    "    \n",
    "    @Parámetros:\n",
    "    aristas      Lista de tuplas, donde cada tupla representa una arista (x,y)   LIST\n",
    "    \n",
    "    @Devuelve:\n",
    "    matriz     Matriz de adyacencia del grafo.     NUMPY.NDARRAY  \n",
    "    \n",
    "    @Ejemplos:\n",
    "    -------------------\n",
    "    \n",
    "    aristas = [(0,0),(0,1),(1,0),(1,2),(2,1)]\n",
    "    nodes_to_matrix(aristas)\n",
    "    >>> [[0.5, 0.5, 0. ],\n",
    "         [0.5, 0. , 1. ],\n",
    "         [0. , 0.5, 0. ]]\n",
    "    \n",
    "    -------------------\n",
    "    \n",
    "    aristas = [(0,1),(0,2),(0,3),(1,0),(1,3),(0,3),(2,0),(3,2),(3,1)]\n",
    "    nodes_to_matrix(aristas)\n",
    "    >>> [[0.   , 0.5       , 1.        , 0.        ],\n",
    "         [0.333, 0.        , 0.        , 0.5       ],\n",
    "         [0.333, 0.        , 0.        , 0.5       ],\n",
    "         [0.333, 0.5       , 0.        , 0.        ]]\n",
    "    \n",
    "    -------------------\n",
    "    '''\n",
    "    \n",
    "    # Creamos un grafo para que nos permita observar las direcciones\n",
    "    # de dónde se dirige cada nodo de forma más sencilla\n",
    "    \n",
    "    G = nx.DiGraph()\n",
    "    G.add_edges_from(aristas)\n",
    "    \n",
    "    # Una vez creado el grafo, basta con seleccionar un nodo\n",
    "    # Para obtener todos los valores a los que apunta.\n",
    "    \n",
    "    nodos = list(G.nodes()) #Tomaremos los nodos\n",
    "    \n",
    "    # Iniciamos creando una matriz de 0's tamaño n x n \n",
    "    # donde 'n' representa el número de nodos\n",
    "    matriz = bsr_matrix((len(nodos), len(nodos)))\n",
    "    matriz = matriz.tolil()\n",
    "    \n",
    "    # Sabemos que contamos con nodos con Id de 0 a len(nodos)-1\n",
    "    # Por lo que podemos tomar cada nodo como un índice\n",
    "    for nodo in nodos:\n",
    "        \n",
    "        #Verificaremos todos los nodos a los que apunta\n",
    "        apunta = list(G.neighbors(nodo)) # Almacenamos a los que apunta\n",
    "        if len(apunta) != 0: # No todos son origen\n",
    "            \n",
    "            value = 1/len(apunta) # Se supone que es 1 / n el valor que reparte la página\n",
    "            for to in apunta:\n",
    "                # M[Ren][Col]\n",
    "                matriz[to,nodo] = value # Colocamos nuestro valor en dicha posición.\n",
    "                \n",
    "    #Finalmente devolvemos la matriz\n",
    "    return matriz"
   ]
  },
  {
   "cell_type": "code",
   "execution_count": 27,
   "metadata": {},
   "outputs": [],
   "source": [
    "M = nodes_to_matrix(data_tuples)"
   ]
  },
  {
   "cell_type": "code",
   "execution_count": 28,
   "metadata": {},
   "outputs": [],
   "source": [
    "def plotea(valores,metodo):\n",
    "    '''\n",
    "    @Autor:\n",
    "    Jonathan Martiñón\n",
    "    \n",
    "    @Descripción:\n",
    "    Función encargada de plotear en una gráfica de barras los 10 primeros\n",
    "    valores.\n",
    "    \n",
    "    @Parámetros:\n",
    "    valores   Valores a graficar.                     LIST\n",
    "    metodo    Datos en el título de nuestro grafo     STR\n",
    "    \n",
    "    '''\n",
    "    \n",
    "    nodos = np.argsort(valores)[::-1]\n",
    "    nodos = nodos[:10]\n",
    "    \n",
    "    colors = ['dodgerblue','deepskyblue','darkturquoise','lightskyblue','aquamarine',\n",
    "             'palegreen','mediumspringgreen','mediumseagreen','limegreen','teal']\n",
    "    \n",
    "    plt.figure(figsize=(8,3))\n",
    "    plt.title(f'Top 10\\n Nodos con mayor ranking\\nmétodo: {metodo}')\n",
    "    plt.ylabel('Ranking')\n",
    "    plt.xlabel('Nodo')\n",
    "    \n",
    "    plt.bar(np.arange(len(nodos)),valores[nodos], color=colors )\n",
    "    plt.xticks(np.arange(len(nodos)),nodos)"
   ]
  },
  {
   "cell_type": "code",
   "execution_count": 29,
   "metadata": {},
   "outputs": [],
   "source": [
    "def obten_destinos_origenes(valores,aristas):\n",
    "    '''\n",
    "    @Autor:\n",
    "    Jonathan Martiñón\n",
    "    \n",
    "    @Descripción:\n",
    "    Función encargada de devolver la cantidad de nodos a los que va 1 nodo\n",
    "    y todos aquellos que apuntan a él.\n",
    "    \n",
    "    @Parámetros:\n",
    "    valores  Lista de nodos a ubicar sus datos                       LIST\n",
    "    aristas  Conjunto de datos que contiene cada unión de los nodos  DATAFRAME\n",
    "    \n",
    "    @Devuelve:\n",
    "    origen   Lista del valor de cada nodo en orden      LIST\n",
    "    destino  Lista de nodos a los que apunta al nodo    LIST\n",
    "    nodos    Lista de nodos ordenadas de mayor a menor  LIST\n",
    "    '''\n",
    "    origen = []\n",
    "    destino = []\n",
    "    \n",
    "    nodos = np.argsort(valores)[::-1]\n",
    "    nodos = nodos[:10]\n",
    "    \n",
    "    valores = valores[nodos]\n",
    "    \n",
    "    for nodo in nodos: # Obtenemos datos de acuerdo al orden \n",
    "        origen.append(len(aristas[aristas['FromNodeId']==nodo])) # Nodos a los que apunta\n",
    "        destino.append(len(aristas[aristas['ToNodeId']==nodo])) # Nodos que le apuntan\n",
    "        \n",
    "    return origen, destino, nodos # Devolvemos\n",
    "    "
   ]
  },
  {
   "cell_type": "code",
   "execution_count": 30,
   "metadata": {},
   "outputs": [],
   "source": [
    "def grafica_datos(nodos, origen, destino):\n",
    "    '''\n",
    "    @Autor: \n",
    "    Jonathan Martiñón\n",
    "    \n",
    "    @Descripción:\n",
    "    Función encargada de graficar los datos de destino y origen acorde al nodo\n",
    "    \n",
    "    @Parámetros:\n",
    "    origen   Lista de nodos que apuntan al nodo         LIST\n",
    "    destino  Lista de nodos a los que apunta al nodo    LIST\n",
    "    nodos    Lista de nodos ordenadas de mayor a menor  LIST\n",
    "    '''\n",
    "    \n",
    "    n = np.arange(len(nodos))\n",
    "    \n",
    "    plt.figure(figsize=(8,3))\n",
    "    plt.plot(n,origen, c ='green',label='Apuntan')\n",
    "    plt.plot(n,origen, c ='green',marker ='o')\n",
    "    plt.plot(n,destino,c='blue', label='Le apuntan')\n",
    "    plt.plot(n,destino,c='blue',marker ='o')\n",
    "    plt.xticks(n,nodos)\n",
    "    \n",
    "    plt.title(\"Top 10 nodos con sus 'vecinos'\")\n",
    "    plt.ylabel(\"Cantidad\")\n",
    "    plt.xlabel(\"Nodo\")\n",
    "    plt.legend()\n",
    "    \n",
    "    plt.show()"
   ]
  },
  {
   "cell_type": "markdown",
   "metadata": {},
   "source": [
    "# Probando PageRank 'normal'"
   ]
  },
  {
   "cell_type": "code",
   "execution_count": 31,
   "metadata": {},
   "outputs": [
    {
     "name": "stdout",
     "output_type": "stream",
     "text": [
      "Iteración 0: r = [1.21701879e-05 1.21701879e-05 1.21701879e-05 ... 1.21701879e-05\n",
      " 1.21701879e-05 1.21701879e-05]\n",
      "Iteración 1: r = [1.79277763e-04 5.12871938e-05 1.72960853e-05 ... 1.11560056e-05\n",
      " 1.11560056e-05 4.05672930e-06]\n",
      "Iteración 2: r = [1.74984615e-04 1.01551464e-04 1.14763677e-05 ... 1.12405208e-05\n",
      " 1.12405208e-05 2.70448620e-06]\n",
      "Iteración 3: r = [1.90840013e-04 1.09452906e-04 1.50393253e-05 ... 1.12334778e-05\n",
      " 1.12334778e-05 2.25373850e-06]\n",
      "Iteración 4: r = [1.87897526e-04 1.16264437e-04 1.47042452e-05 ... 1.11563108e-05\n",
      " 1.11563108e-05 1.95324003e-06]\n",
      "Iteración 5: r = [1.88150210e-04 1.17059165e-04 1.51675319e-05 ... 1.11055796e-05\n",
      " 1.11055796e-05 1.72786618e-06]\n",
      "Iteración 6: r = [1.85645177e-04 1.17085499e-04 1.50125783e-05 ... 1.10269985e-05\n",
      " 1.10269985e-05 1.54506604e-06]\n",
      "Iteración 7: r = [1.83046504e-04 1.15815407e-04 1.48948855e-05 ... 1.09436957e-05\n",
      " 1.09436957e-05 1.39779265e-06]\n",
      "Iteración 8: r = [1.80082236e-04 1.14257167e-04 1.46783057e-05 ... 1.08460791e-05\n",
      " 1.08460791e-05 1.27157086e-06]\n",
      "Iteración 9: r = [1.76841196e-04 1.12344559e-04 1.44426391e-05 ... 1.07389399e-05\n",
      " 1.07389399e-05 1.16235706e-06]\n",
      "Iteración 10: r = [1.73549967e-04 1.10327462e-04 1.41894141e-05 ... 1.06218434e-05\n",
      " 1.06218434e-05 1.06617656e-06]\n",
      "Iteración 11: r = [1.70127149e-04 1.08204931e-04 1.39242421e-05 ... 1.04966618e-05\n",
      " 1.04966618e-05 9.80929569e-07]\n",
      "Iteración 12: r = [1.66704639e-04 1.06051904e-04 1.36554816e-05 ... 1.03643931e-05\n",
      " 1.03643931e-05 9.04978287e-07]\n",
      "Iteración 13: r = [1.63248643e-04 1.03876124e-04 1.33823555e-05 ... 1.02263164e-05\n",
      " 1.02263164e-05 8.37106587e-07]\n",
      "Iteración 14: r = [1.59815566e-04 1.01704068e-04 1.31093103e-05 ... 1.00834720e-05\n",
      " 1.00834720e-05 7.76321735e-07]\n",
      "Iteración 15: r = [1.56398556e-04 9.95423327e-05 1.28361503e-05 ... 9.93684637e-06\n",
      " 9.93684637e-06 7.21784241e-07]\n",
      "Iteración 16: r = [1.53020755e-04 9.74016997e-05 1.25649219e-05 ... 9.78728984e-06\n",
      " 9.78728984e-06 6.72771850e-07]\n",
      "Iteración 17: r = [1.49683239e-04 9.52864679e-05 1.22958709e-05 ... 9.63555624e-06\n",
      " 9.63555624e-06 6.28651049e-07]\n",
      "Iteración 18: r = [1.46395776e-04 9.32014881e-05 1.20299668e-05 ... 9.48229682e-06\n",
      " 9.48229682e-06 5.88865819e-07]\n",
      "Iteración 19: r = [1.43160480e-04 9.11492409e-05 1.17675143e-05 ... 9.32807644e-06\n",
      " 9.32807644e-06 5.52925029e-07]\n",
      "Iteración 20: r = [1.39981561e-04 8.91319805e-05 1.15089979e-05 ... 9.17338078e-06\n",
      " 9.17338078e-06 5.20395621e-07]\n",
      "Iteración 21: r = [1.36860441e-04 8.71509721e-05 1.12546449e-05 ... 9.01862713e-06\n",
      " 9.01862713e-06 4.90895109e-07]\n",
      "Iteración 22: r = [1.33798815e-04 8.52071828e-05 1.10046992e-05 ... 8.86417262e-06\n",
      " 8.86417262e-06 4.64086088e-07]\n",
      "Iteración 23: r = [1.30797261e-04 8.33011105e-05 1.07592935e-05 ... 8.71032237e-06\n",
      " 8.71032237e-06 4.39670780e-07]\n",
      "Iteración 24: r = [1.27856221e-04 8.14330258e-05 1.05185390e-05 ... 8.55733631e-06\n",
      " 8.55733631e-06 4.17386494e-07]\n",
      "Iteración 25: r = [1.24975636e-04 7.96029527e-05 1.02824921e-05 ... 8.40543535e-06\n",
      " 8.40543535e-06 3.97001391e-07]\n",
      "Iteración 26: r = [1.22155272e-04 7.78107639e-05 1.00511854e-05 ... 8.25480668e-06\n",
      " 8.25480668e-06 3.78310829e-07]\n",
      "Iteración 27: r = [1.19394647e-04 7.60561941e-05 9.82462129e-06 ... 8.10560832e-06\n",
      " 8.10560832e-06 3.61134065e-07]\n",
      "Iteración 28: r = [1.16693150e-04 7.43388828e-05 9.60278438e-06 ... 7.95797312e-06\n",
      " 7.95797312e-06 3.45311374e-07]\n",
      "Iteración 29: r = [1.14050036e-04 7.26583899e-05 9.38564155e-06 ... 7.81201216e-06\n",
      " 7.81201216e-06 3.30701498e-07]\n",
      "Iteración 30: r = [1.11464479e-04 7.10142179e-05 9.17314767e-06 ... 7.66781764e-06\n",
      " 7.66781764e-06 3.17179420e-07]\n",
      "Iteración 31: r = [1.08935579e-04 6.94058240e-05 8.96524722e-06 ... 7.52546549e-06\n",
      " 7.52546549e-06 3.04634400e-07]\n",
      "Iteración 32: r = [1.06462392e-04 6.78326322e-05 8.76187719e-06 ... 7.38501746e-06\n",
      " 7.38501746e-06 2.92968263e-07]\n",
      "Iteración 33: r = [1.04043933e-04 6.62940419e-05 8.56296855e-06 ... 7.24652307e-06\n",
      " 7.24652307e-06 2.82093896e-07]\n",
      "Iteración 34: r = [1.01679198e-04 6.47894353e-05 8.36844793e-06 ... 7.11002118e-06\n",
      " 7.11002118e-06 2.71933934e-07]\n",
      "Iteración 35: r = [9.93671625e-05 6.33181828e-05 8.17823872e-06 ... 6.97554144e-06\n",
      " 6.97554144e-06 2.62419610e-07]\n",
      "Iteración 36: r = [9.71067973e-05 6.18796479e-05 7.99226204e-06 ... 6.84310546e-06\n",
      " 6.84310546e-06 2.53489741e-07]\n",
      "Iteración 37: r = [9.48970689e-05 6.04731908e-05 7.81043757e-06 ... 6.71272789e-06\n",
      " 6.71272789e-06 2.45089849e-07]\n",
      "Iteración 38: r = [9.27369460e-05 5.90981711e-05 7.63268411e-06 ... 6.58441734e-06\n",
      " 6.58441734e-06 2.37171380e-07]\n",
      "Iteración 39: r = [9.06254024e-05 5.77539506e-05 7.45892008e-06 ... 6.45817717e-06\n",
      " 6.45817717e-06 2.29691021e-07]\n",
      "Iteración 40: r = [8.85614203e-05 5.64398949e-05 7.28906396e-06 ... 6.33400618e-06\n",
      " 6.33400618e-06 2.22610103e-07]\n",
      "Iteración 41: r = [8.65439925e-05 5.51553750e-05 7.12303460e-06 ... 6.21189920e-06\n",
      " 6.21189920e-06 2.15894070e-07]\n",
      "Iteración 42: r = [8.45721238e-05 5.38997687e-05 6.96075140e-06 ... 6.09184769e-06\n",
      " 6.09184769e-06 2.09512015e-07]\n",
      "Iteración 43: r = [8.26448327e-05 5.26724611e-05 6.80213462e-06 ... 5.97384010e-06\n",
      " 5.97384010e-06 2.03436266e-07]\n",
      "Iteración 44: r = [8.07611523e-05 5.14728461e-05 6.64710545e-06 ... 5.85786237e-06\n",
      " 5.85786237e-06 1.97642025e-07]\n",
      "Iteración 45: r = [7.89201313e-05 5.03003263e-05 6.49558616e-06 ... 5.74389823e-06\n",
      " 5.74389823e-06 1.92107052e-07]\n",
      "Iteración 46: r = [7.71208346e-05 4.91543139e-05 6.34750020e-06 ... 5.63192953e-06\n",
      " 5.63192953e-06 1.86811372e-07]\n",
      "Iteración 47: r = [7.53623433e-05 4.80342309e-05 6.20277226e-06 ... 5.52193652e-06\n",
      " 5.52193652e-06 1.81737035e-07]\n",
      "Iteración 48: r = [7.36437557e-05 4.69395093e-05 6.06132833e-06 ... 5.41389808e-06\n",
      " 5.41389808e-06 1.76867883e-07]\n",
      "Iteración 49: r = [7.19641869e-05 4.58695915e-05 5.92309574e-06 ... 5.30779194e-06\n",
      " 5.30779194e-06 1.72189364e-07]\n",
      "Tardó: 4.447 segundos\n",
      "\n",
      "Páginas con mayor ranking\n",
      "[(19349, 0.0008636568784591458), (2494, 0.000718626669909566), (398, 0.0006841767936359639), (5876, 0.0006016422082850007), (4805, 0.0006004401307197827)]\n"
     ]
    }
   ],
   "source": [
    "aux = pagerank(M,iter=50)\n",
    "a = np.argsort(aux)[::-1]\n",
    "print(\"\\nPáginas con mayor ranking\")\n",
    "print(list(zip(a[:5],aux[a[:5]])))"
   ]
  },
  {
   "cell_type": "code",
   "execution_count": 32,
   "metadata": {},
   "outputs": [
    {
     "data": {
      "image/png": "[encoded data removed]",
      "text/plain": [
       "<Figure size 576x216 with 1 Axes>"
      ]
     },
     "metadata": {
      "needs_background": "light"
     },
     "output_type": "display_data"
    }
   ],
   "source": [
    "plotea(aux,'Normal')"
   ]
  },
  {
   "cell_type": "code",
   "execution_count": 33,
   "metadata": {},
   "outputs": [
    {
     "data": {
      "image/png": "[encoded data removed]",
      "text/plain": [
       "<Figure size 576x216 with 1 Axes>"
      ]
     },
     "metadata": {
      "needs_background": "light"
     },
     "output_type": "display_data"
    }
   ],
   "source": [
    "ori,dest,nod = obten_destinos_origenes(aux,data)\n",
    "grafica_datos(nod,ori,dest)"
   ]
  },
  {
   "cell_type": "markdown",
   "metadata": {},
   "source": [
    "# Probando PageRank 'escalable' sin callejones"
   ]
  },
  {
   "cell_type": "code",
   "execution_count": 34,
   "metadata": {},
   "outputs": [
    {
     "name": "stdout",
     "output_type": "stream",
     "text": [
      "Iteración 0: r = [1.21701879e-05 1.21701879e-05 1.21701879e-05 ... 1.21701879e-05\n",
      " 1.21701879e-05 1.21701879e-05]\n",
      "Iteración 1: r = [1.45856248e-04 4.34637926e-05 1.62709058e-05 ... 1.13588420e-05\n",
      " 1.13588420e-05 5.67942102e-06]\n",
      "Iteración 2: r = [1.43108633e-04 7.56329254e-05 1.25462866e-05 ... 1.14129318e-05\n",
      " 1.14129318e-05 4.81398544e-06]\n",
      "Iteración 3: r = [1.51226597e-04 7.96784638e-05 1.43705208e-05 ... 1.14093258e-05\n",
      " 1.14093258e-05 4.58320262e-06]\n",
      "Iteración 4: r = [1.50021355e-04 8.24684667e-05 1.42332720e-05 ... 1.13777182e-05\n",
      " 1.13777182e-05 4.46011844e-06]\n",
      "Iteración 5: r = [1.50104154e-04 8.27288835e-05 1.43850818e-05 ... 1.13610946e-05\n",
      " 1.13610946e-05 4.38626794e-06]\n",
      "Iteración 6: r = [1.49447474e-04 8.27357867e-05 1.43444617e-05 ... 1.13404950e-05\n",
      " 1.13404950e-05 4.33834798e-06]\n",
      "Iteración 7: r = [1.48902493e-04 8.24694291e-05 1.43197797e-05 ... 1.13230251e-05\n",
      " 1.13230251e-05 4.30746251e-06]\n",
      "Iteración 8: r = [1.48405172e-04 8.22079999e-05 1.42834436e-05 ... 1.13066478e-05\n",
      " 1.13066478e-05 4.28628601e-06]\n",
      "Iteración 9: r = [1.47970167e-04 8.19512939e-05 1.42518130e-05 ... 1.12922678e-05\n",
      " 1.12922678e-05 4.27162758e-06]\n",
      "Iteración 10: r = [1.47616774e-04 8.17347097e-05 1.42246232e-05 ... 1.12796947e-05\n",
      " 1.12796947e-05 4.26130028e-06]\n",
      "Iteración 11: r = [1.47322756e-04 8.15523857e-05 1.42018451e-05 ... 1.12689417e-05\n",
      " 1.12689417e-05 4.25397762e-06]\n",
      "Iteración 12: r = [1.47087563e-04 8.14044309e-05 1.41833760e-05 ... 1.12598522e-05\n",
      " 1.12598522e-05 4.24875829e-06]\n",
      "Iteración 13: r = [1.46897567e-04 8.12848161e-05 1.41683607e-05 ... 1.12522614e-05\n",
      " 1.12522614e-05 4.24502700e-06]\n",
      "Iteración 14: r = [1.46746579e-04 8.11892880e-05 1.41563521e-05 ... 1.12459790e-05\n",
      " 1.12459790e-05 4.24235365e-06]\n",
      "Iteración 15: r = [1.46626354e-04 8.11132287e-05 1.41467411e-05 ... 1.12408201e-05\n",
      " 1.12408201e-05 4.24043479e-06]\n",
      "Iteración 16: r = [1.46531277e-04 8.10529753e-05 1.41391067e-05 ... 1.12366104e-05\n",
      " 1.12366104e-05 4.23905521e-06]\n",
      "Iteración 17: r = [1.46456123e-04 8.10053445e-05 1.41330482e-05 ... 1.12331937e-05\n",
      " 1.12331937e-05 4.23806170e-06]\n",
      "Iteración 18: r = [1.46396901e-04 8.09677848e-05 1.41282581e-05 ... 1.12304328e-05\n",
      " 1.12304328e-05 4.23734499e-06]\n",
      "Iteración 19: r = [1.46350276e-04 8.09382088e-05 1.41244758e-05 ... 1.12282103e-05\n",
      " 1.12282103e-05 4.23682703e-06]\n",
      "Iteración 20: r = [1.46313625e-04 8.09149514e-05 1.41214953e-05 ... 1.12264268e-05\n",
      " 1.12264268e-05 4.23645199e-06]\n",
      "Iteración 21: r = [1.46284838e-04 8.08966798e-05 1.41191493e-05 ... 1.12249994e-05\n",
      " 1.12249994e-05 4.23617990e-06]\n",
      "Iteración 22: r = [1.46262247e-04 8.08823372e-05 1.41173050e-05 ... 1.12238597e-05\n",
      " 1.12238597e-05 4.23598208e-06]\n",
      "Iteración 23: r = [1.46244529e-04 8.08710857e-05 1.41158564e-05 ... 1.12229516e-05\n",
      " 1.12229516e-05 4.23583796e-06]\n",
      "Iteración 24: r = [1.46230640e-04 8.08622640e-05 1.41147195e-05 ... 1.12222291e-05\n",
      " 1.12222291e-05 4.23573272e-06]\n",
      "Iteración 25: r = [1.46219758e-04 8.08553501e-05 1.41138277e-05 ... 1.12216552e-05\n",
      " 1.12216552e-05 4.23565571e-06]\n",
      "Iteración 26: r = [1.46211234e-04 8.08499336e-05 1.41131286e-05 ... 1.12212000e-05\n",
      " 1.12212000e-05 4.23559922e-06]\n",
      "Iteración 27: r = [1.46204559e-04 8.08456913e-05 1.41125808e-05 ... 1.12208392e-05\n",
      " 1.12208392e-05 4.23555769e-06]\n",
      "Iteración 28: r = [1.46199333e-04 8.08423695e-05 1.41121517e-05 ... 1.12205537e-05\n",
      " 1.12205537e-05 4.23552709e-06]\n",
      "Iteración 29: r = [1.46195243e-04 8.08397691e-05 1.41118157e-05 ... 1.12203278e-05\n",
      " 1.12203278e-05 4.23550448e-06]\n",
      "Iteración 30: r = [1.46192043e-04 8.08377337e-05 1.41115527e-05 ... 1.12201493e-05\n",
      " 1.12201493e-05 4.23548774e-06]\n",
      "Iteración 31: r = [1.46189538e-04 8.08361408e-05 1.41113468e-05 ... 1.12200083e-05\n",
      " 1.12200083e-05 4.23547531e-06]\n",
      "Iteración 32: r = [1.46187579e-04 8.08348944e-05 1.41111856e-05 ... 1.12198971e-05\n",
      " 1.12198971e-05 4.23546607e-06]\n",
      "Iteración 33: r = [1.46186046e-04 8.08339192e-05 1.41110596e-05 ... 1.12198093e-05\n",
      " 1.12198093e-05 4.23545918e-06]\n",
      "Iteración 34: r = [1.46184847e-04 8.08331563e-05 1.41109609e-05 ... 1.12197401e-05\n",
      " 1.12197401e-05 4.23545403e-06]\n",
      "Iteración 35: r = [1.46183909e-04 8.08325595e-05 1.41108838e-05 ... 1.12196855e-05\n",
      " 1.12196855e-05 4.23545017e-06]\n",
      "Iteración 36: r = [1.46183175e-04 8.08320926e-05 1.41108234e-05 ... 1.12196425e-05\n",
      " 1.12196425e-05 4.23544727e-06]\n",
      "Iteración 37: r = [1.46182602e-04 8.08317275e-05 1.41107762e-05 ... 1.12196087e-05\n",
      " 1.12196087e-05 4.23544509e-06]\n",
      "Iteración 38: r = [1.46182153e-04 8.08314419e-05 1.41107393e-05 ... 1.12195820e-05\n",
      " 1.12195820e-05 4.23544345e-06]\n",
      "Iteración 39: r = [1.46181802e-04 8.08312186e-05 1.41107104e-05 ... 1.12195611e-05\n",
      " 1.12195611e-05 4.23544220e-06]\n",
      "Iteración 40: r = [1.46181528e-04 8.08310439e-05 1.41106879e-05 ... 1.12195446e-05\n",
      " 1.12195446e-05 4.23544126e-06]\n",
      "Iteración 41: r = [1.46181313e-04 8.08309073e-05 1.41106702e-05 ... 1.12195316e-05\n",
      " 1.12195316e-05 4.23544055e-06]\n",
      "Iteración 42: r = [1.46181146e-04 8.08308005e-05 1.41106564e-05 ... 1.12195214e-05\n",
      " 1.12195214e-05 4.23544000e-06]\n",
      "Iteración 43: r = [1.46181014e-04 8.08307170e-05 1.41106456e-05 ... 1.12195133e-05\n",
      " 1.12195133e-05 4.23543959e-06]\n",
      "Iteración 44: r = [1.46180912e-04 8.08306517e-05 1.41106372e-05 ... 1.12195070e-05\n",
      " 1.12195070e-05 4.23543927e-06]\n",
      "Iteración 45: r = [1.46180832e-04 8.08306006e-05 1.41106306e-05 ... 1.12195021e-05\n",
      " 1.12195021e-05 4.23543903e-06]\n",
      "Iteración 46: r = [1.46180769e-04 8.08305607e-05 1.41106254e-05 ... 1.12194981e-05\n",
      " 1.12194981e-05 4.23543885e-06]\n",
      "Iteración 47: r = [1.46180720e-04 8.08305294e-05 1.41106214e-05 ... 1.12194951e-05\n",
      " 1.12194951e-05 4.23543871e-06]\n",
      "Iteración 48: r = [1.46180682e-04 8.08305050e-05 1.41106182e-05 ... 1.12194927e-05\n",
      " 1.12194927e-05 4.23543860e-06]\n",
      "Iteración 49: r = [1.46180652e-04 8.08304859e-05 1.41106157e-05 ... 1.12194908e-05\n",
      " 1.12194908e-05 4.23543852e-06]\n",
      "Tardó: 0.706 segundos\n",
      "\n",
      "Páginas con mayor ranking\n",
      "[(2494, 0.001888142779541306), (398, 0.001736765810128757), (381, 0.001648474465486609), (37, 0.0012758747488968694), (4805, 0.0012186052470502876)]\n"
     ]
    }
   ],
   "source": [
    "aux = pagerank_escalable_nocss(M,iter=50)\n",
    "a = np.argsort(aux)[::-1]\n",
    "print(\"\\nPáginas con mayor ranking\")\n",
    "print(list(zip(a[:5],aux[a[:5]])))"
   ]
  },
  {
   "cell_type": "code",
   "execution_count": 35,
   "metadata": {},
   "outputs": [
    {
     "data": {
      "image/png": "[encoded data removed]",
      "text/plain": [
       "<Figure size 576x216 with 1 Axes>"
      ]
     },
     "metadata": {
      "needs_background": "light"
     },
     "output_type": "display_data"
    }
   ],
   "source": [
    "plotea(aux,'Escalable sin callejón beta=0.8')"
   ]
  },
  {
   "cell_type": "code",
   "execution_count": 36,
   "metadata": {},
   "outputs": [
    {
     "data": {
      "image/png": "[encoded data removed]",
      "text/plain": [
       "<Figure size 576x216 with 1 Axes>"
      ]
     },
     "metadata": {
      "needs_background": "light"
     },
     "output_type": "display_data"
    }
   ],
   "source": [
    "ori,dest,nod = obten_destinos_origenes(aux,data)\n",
    "grafica_datos(nod,ori,dest)"
   ]
  },
  {
   "cell_type": "code",
   "execution_count": 37,
   "metadata": {},
   "outputs": [
    {
     "name": "stdout",
     "output_type": "stream",
     "text": [
      "Iteración 0: r = [1.21701879e-05 1.21701879e-05 1.21701879e-05 ... 1.21701879e-05\n",
      " 1.21701879e-05 1.21701879e-05]\n",
      "Iteración 1: r = [1.62567005e-04 4.73754932e-05 1.67834956e-05 ... 1.12574238e-05\n",
      " 1.12574238e-05 4.86807516e-06]\n",
      "Iteración 2: r = [1.59089556e-04 8.80895519e-05 1.20695243e-05 ... 1.13258811e-05\n",
      " 1.13258811e-05 3.77275825e-06]\n",
      "Iteración 3: r = [1.70648141e-04 9.38497032e-05 1.46669204e-05 ... 1.13207468e-05\n",
      " 1.13207468e-05 3.44416318e-06]\n",
      "Iteración 4: r = [1.68717575e-04 9.83187485e-05 1.44470743e-05 ... 1.12701175e-05\n",
      " 1.12701175e-05 3.24700613e-06]\n",
      "Iteración 5: r = [1.68866782e-04 9.87880280e-05 1.47206405e-05 ... 1.12401613e-05\n",
      " 1.12401613e-05 3.11392513e-06]\n",
      "Iteración 6: r = [1.67535505e-04 9.88020228e-05 1.46382918e-05 ... 1.11984000e-05\n",
      " 1.11984000e-05 3.01677764e-06]\n",
      "Iteración 7: r = [1.66292568e-04 9.81945416e-05 1.45819997e-05 ... 1.11585566e-05\n",
      " 1.11585566e-05 2.94633723e-06]\n",
      "Iteración 8: r = [1.65016548e-04 9.75237706e-05 1.44887692e-05 ... 1.11165358e-05\n",
      " 1.11165358e-05 2.89200289e-06]\n",
      "Iteración 9: r = [1.63760902e-04 9.67827867e-05 1.43974671e-05 ... 1.10750279e-05\n",
      " 1.10750279e-05 2.84969123e-06]\n",
      "Iteración 10: r = [1.62613322e-04 9.60794686e-05 1.43091730e-05 ... 1.10341989e-05\n",
      " 1.10341989e-05 2.81615516e-06]\n",
      "Iteración 11: r = [1.61539205e-04 9.54133959e-05 1.42259593e-05 ... 1.09949156e-05\n",
      " 1.09949156e-05 2.78940375e-06]\n",
      "Iteración 12: r = [1.60572587e-04 9.48053175e-05 1.41500533e-05 ... 1.09575590e-05\n",
      " 1.09575590e-05 2.76795286e-06]\n",
      "Iteración 13: r = [1.59694120e-04 9.42522634e-05 1.40806283e-05 ... 1.09224617e-05\n",
      " 1.09224617e-05 2.75070079e-06]\n",
      "Iteración 14: r = [1.58908742e-04 9.37553666e-05 1.40181644e-05 ... 1.08897835e-05\n",
      " 1.08897835e-05 2.73679517e-06]\n",
      "Iteración 15: r = [1.58205210e-04 9.33102845e-05 1.39619232e-05 ... 1.08595946e-05\n",
      " 1.08595946e-05 2.72556638e-06]\n",
      "Iteración 16: r = [1.57579296e-04 9.29136209e-05 1.39116640e-05 ... 1.08318815e-05\n",
      " 1.08318815e-05 2.71648428e-06]\n",
      "Iteración 17: r = [1.57022693e-04 9.25608599e-05 1.38667939e-05 ... 1.08065766e-05\n",
      " 1.08065766e-05 2.70912618e-06]\n",
      "Iteración 18: r = [1.56529262e-04 9.22479156e-05 1.38268831e-05 ... 1.07835732e-05\n",
      " 1.07835732e-05 2.70315463e-06]\n",
      "Iteración 19: r = [1.56092221e-04 9.19706874e-05 1.37914296e-05 ... 1.07627403e-05\n",
      " 1.07627403e-05 2.69829956e-06]\n",
      "Iteración 20: r = [1.55705739e-04 9.17254356e-05 1.37600001e-05 ... 1.07439329e-05\n",
      " 1.07439329e-05 2.69434474e-06]\n",
      "Iteración 21: r = [1.55364229e-04 9.15086757e-05 1.37321690e-05 ... 1.07269999e-05\n",
      " 1.07269999e-05 2.69111683e-06]\n",
      "Iteración 22: r = [1.55062729e-04 9.13172570e-05 1.37075551e-05 ... 1.07117897e-05\n",
      " 1.07117897e-05 2.68847675e-06]\n",
      "Iteración 23: r = [1.54796704e-04 9.11483230e-05 1.36858049e-05 ... 1.06981540e-05\n",
      " 1.06981540e-05 2.68631284e-06]\n",
      "Iteración 24: r = [1.54562107e-04 9.09993125e-05 1.36666008e-05 ... 1.06859509e-05\n",
      " 1.06859509e-05 2.68453530e-06]\n",
      "Iteración 25: r = [1.54355311e-04 9.08679319e-05 1.36496551e-05 ... 1.06750459e-05\n",
      " 1.06750459e-05 2.68307186e-06]\n",
      "Iteración 26: r = [1.54173085e-04 9.07521371e-05 1.36347101e-05 ... 1.06653137e-05\n",
      " 1.06653137e-05 2.68186425e-06]\n",
      "Iteración 27: r = [1.54012555e-04 9.06501094e-05 1.36215355e-05 ... 1.06566378e-05\n",
      " 1.06566378e-05 2.68086542e-06]\n",
      "Iteración 28: r = [1.53871173e-04 9.05602343e-05 1.36099257e-05 ... 1.06489114e-05\n",
      " 1.06489114e-05 2.68003735e-06]\n",
      "Iteración 29: r = [1.53746679e-04 9.04810809e-05 1.35996980e-05 ... 1.06420364e-05\n",
      " 1.06420364e-05 2.67934920e-06]\n",
      "Iteración 30: r = [1.53637074e-04 9.04113825e-05 1.35906902e-05 ... 1.06359239e-05\n",
      " 1.06359239e-05 2.67877598e-06]\n",
      "Iteración 31: r = [1.53540591e-04 9.03500190e-05 1.35827583e-05 ... 1.06304928e-05\n",
      " 1.06304928e-05 2.67829737e-06]\n",
      "Iteración 32: r = [1.53455670e-04 9.02960006e-05 1.35757752e-05 ... 1.06256703e-05\n",
      " 1.06256703e-05 2.67789679e-06]\n",
      "Iteración 33: r = [1.53380932e-04 9.02484533e-05 1.35696283e-05 ... 1.06213904e-05\n",
      " 1.06213904e-05 2.67756074e-06]\n",
      "Iteración 34: r = [1.53315162e-04 9.02066059e-05 1.35642182e-05 ... 1.06175939e-05\n",
      " 1.06175939e-05 2.67727816e-06]\n",
      "Iteración 35: r = [1.53257288e-04 9.01697782e-05 1.35594569e-05 ... 1.06142277e-05\n",
      " 1.06142277e-05 2.67704000e-06]\n",
      "Iteración 36: r = [1.53206366e-04 9.01373703e-05 1.35552672e-05 ... 1.06112441e-05\n",
      " 1.06112441e-05 2.67683882e-06]\n",
      "Iteración 37: r = [1.53161562e-04 9.01088536e-05 1.35515806e-05 ... 1.06086006e-05\n",
      " 1.06086006e-05 2.67666851e-06]\n",
      "Iteración 38: r = [1.53122144e-04 9.00837622e-05 1.35483369e-05 ... 1.06062592e-05\n",
      " 1.06062592e-05 2.67652402e-06]\n",
      "Iteración 39: r = [1.53087466e-04 9.00616858e-05 1.35454832e-05 ... 1.06041859e-05\n",
      " 1.06041859e-05 2.67640116e-06]\n",
      "Iteración 40: r = [1.53056958e-04 9.00422629e-05 1.35429726e-05 ... 1.06023506e-05\n",
      " 1.06023506e-05 2.67629650e-06]\n",
      "Iteración 41: r = [1.53030121e-04 9.00251752e-05 1.35407639e-05 ... 1.06007262e-05\n",
      " 1.06007262e-05 2.67620716e-06]\n",
      "Iteración 42: r = [1.53006513e-04 9.00101425e-05 1.35388210e-05 ... 1.05992889e-05\n",
      " 1.05992889e-05 2.67613075e-06]\n",
      "Iteración 43: r = [1.52985746e-04 8.99969179e-05 1.35371118e-05 ... 1.05980173e-05\n",
      " 1.05980173e-05 2.67606528e-06]\n",
      "Iteración 44: r = [1.52967478e-04 8.99852843e-05 1.35356084e-05 ... 1.05968926e-05\n",
      " 1.05968926e-05 2.67600909e-06]\n",
      "Iteración 45: r = [1.52951410e-04 8.99750506e-05 1.35342859e-05 ... 1.05958979e-05\n",
      " 1.05958979e-05 2.67596078e-06]\n",
      "Iteración 46: r = [1.52937276e-04 8.99660485e-05 1.35331227e-05 ... 1.05950184e-05\n",
      " 1.05950184e-05 2.67591918e-06]\n",
      "Iteración 47: r = [1.52924844e-04 8.99581299e-05 1.35320995e-05 ... 1.05942408e-05\n",
      " 1.05942408e-05 2.67588331e-06]\n",
      "Iteración 48: r = [1.52913909e-04 8.99511645e-05 1.35311996e-05 ... 1.05935534e-05\n",
      " 1.05935534e-05 2.67585233e-06]\n",
      "Iteración 49: r = [1.52904291e-04 8.99450377e-05 1.35304080e-05 ... 1.05929458e-05\n",
      " 1.05929458e-05 2.67582554e-06]\n",
      "Tardó: 0.667 segundos\n",
      "\n",
      "Páginas con mayor ranking\n",
      "[(2494, 0.0018204513622323342), (398, 0.0016922303616811866), (381, 0.0015270630838949944), (4805, 0.0012928762427869532), (37, 0.0012198760264941527)]\n"
     ]
    }
   ],
   "source": [
    "aux = pagerank_escalable_nocss(M,beta=0.9,iter=50)\n",
    "a = np.argsort(aux)[::-1]\n",
    "print(\"\\nPáginas con mayor ranking\")\n",
    "print(list(zip(a[:5],aux[a[:5]])))"
   ]
  },
  {
   "cell_type": "code",
   "execution_count": 38,
   "metadata": {},
   "outputs": [
    {
     "data": {
      "image/png": "[encoded data removed]",
      "text/plain": [
       "<Figure size 576x216 with 1 Axes>"
      ]
     },
     "metadata": {
      "needs_background": "light"
     },
     "output_type": "display_data"
    }
   ],
   "source": [
    "plotea(aux,'Escalable sin callejón beta=0.9')"
   ]
  },
  {
   "cell_type": "code",
   "execution_count": 39,
   "metadata": {},
   "outputs": [
    {
     "data": {
      "image/png": "[encoded data removed]",
      "text/plain": [
       "<Figure size 576x216 with 1 Axes>"
      ]
     },
     "metadata": {
      "needs_background": "light"
     },
     "output_type": "display_data"
    }
   ],
   "source": [
    "ori,dest,nod = obten_destinos_origenes(aux,data)\n",
    "grafica_datos(nod,ori,dest)"
   ]
  },
  {
   "cell_type": "markdown",
   "metadata": {},
   "source": [
    "# Probando PageRank 'escalable' con callejones"
   ]
  },
  {
   "cell_type": "code",
   "execution_count": 40,
   "metadata": {},
   "outputs": [
    {
     "name": "stdout",
     "output_type": "stream",
     "text": [
      "Iteración 0: r = [1.21701879e-05 1.21701879e-05 1.21701879e-05 ... 1.21701879e-05\n",
      " 1.21701879e-05 1.21701879e-05]\n",
      "Iteración 1: r = [1.46297863e-04 4.39054077e-05 1.67125210e-05 ... 1.18004572e-05\n",
      " 1.18004572e-05 6.12103616e-06]\n",
      "Iteración 2: r = [1.48602104e-04 7.74109192e-05 1.33375421e-05 ... 1.20259450e-05\n",
      " 1.20259450e-05 5.22091164e-06]\n",
      "Iteración 3: r = [1.58935076e-04 8.32487398e-05 1.52028432e-05 ... 1.21194609e-05\n",
      " 1.21194609e-05 4.96015929e-06]\n",
      "Iteración 4: r = [1.59255450e-04 8.70795404e-05 1.51909110e-05 ... 1.21653904e-05\n",
      " 1.21653904e-05 4.84053825e-06]\n",
      "Iteración 5: r = [1.60391499e-04 8.80755813e-05 1.54276090e-05 ... 1.22071190e-05\n",
      " 1.22071190e-05 4.77056466e-06]\n",
      "Iteración 6: r = [1.60533035e-04 8.86136343e-05 1.54537871e-05 ... 1.22326265e-05\n",
      " 1.22326265e-05 4.72660911e-06]\n",
      "Iteración 7: r = [1.60599265e-04 8.87477965e-05 1.54795066e-05 ... 1.22512449e-05\n",
      " 1.22512449e-05 4.69871094e-06]\n",
      "Iteración 8: r = [1.60572834e-04 8.87916382e-05 1.54818454e-05 ... 1.22631817e-05\n",
      " 1.22631817e-05 4.67977298e-06]\n",
      "Iteración 9: r = [1.60502764e-04 8.87701072e-05 1.54800631e-05 ... 1.22709929e-05\n",
      " 1.22709929e-05 4.66676351e-06]\n",
      "Iteración 10: r = [1.60431706e-04 8.87350123e-05 1.54759438e-05 ... 1.22757905e-05\n",
      " 1.22757905e-05 4.65762600e-06]\n",
      "Iteración 11: r = [1.60356567e-04 8.86931472e-05 1.54710443e-05 ... 1.22786293e-05\n",
      " 1.22786293e-05 4.65116651e-06]\n",
      "Iteración 12: r = [1.60290880e-04 8.86539008e-05 1.54664255e-05 ... 1.22801641e-05\n",
      " 1.22801641e-05 4.64656689e-06]\n",
      "Iteración 13: r = [1.60232224e-04 8.86184834e-05 1.54621456e-05 ... 1.22808737e-05\n",
      " 1.22808737e-05 4.64328213e-06]\n",
      "Iteración 14: r = [1.60182948e-04 8.85881548e-05 1.54584542e-05 ... 1.22810715e-05\n",
      " 1.22810715e-05 4.64092901e-06]\n",
      "Iteración 15: r = [1.60141491e-04 8.85625876e-05 1.54552863e-05 ... 1.22809690e-05\n",
      " 1.22809690e-05 4.63924004e-06]\n",
      "Iteración 16: r = [1.60107390e-04 8.85414263e-05 1.54526410e-05 ... 1.22807024e-05\n",
      " 1.22807024e-05 4.63802507e-06]\n",
      "Iteración 17: r = [1.60079429e-04 8.85240563e-05 1.54504446e-05 ... 1.22803589e-05\n",
      " 1.22803589e-05 4.63714935e-06]\n",
      "Iteración 18: r = [1.60056720e-04 8.85099143e-05 1.54486429e-05 ... 1.22799919e-05\n",
      " 1.22799919e-05 4.63651673e-06]\n",
      "Iteración 19: r = [1.60038336e-04 8.84984552e-05 1.54471722e-05 ... 1.22796333e-05\n",
      " 1.22796333e-05 4.63605869e-06]\n",
      "Iteración 20: r = [1.60023521e-04 8.84892092e-05 1.54459790e-05 ... 1.22793003e-05\n",
      " 1.22793003e-05 4.63572622e-06]\n",
      "Iteración 21: r = [1.60011611e-04 8.84817702e-05 1.54450144e-05 ... 1.22790011e-05\n",
      " 1.22790011e-05 4.63548426e-06]\n",
      "Iteración 22: r = [1.60002059e-04 8.84757995e-05 1.54442374e-05 ... 1.22787386e-05\n",
      " 1.22787386e-05 4.63530770e-06]\n",
      "Iteración 23: r = [1.59994412e-04 8.84710160e-05 1.54436130e-05 ... 1.22785121e-05\n",
      " 1.22785121e-05 4.63517848e-06]\n",
      "Iteración 24: r = [1.59988299e-04 8.84671891e-05 1.54431124e-05 ... 1.22783190e-05\n",
      " 1.22783190e-05 4.63508363e-06]\n",
      "Iteración 25: r = [1.59983416e-04 8.84641311e-05 1.54427115e-05 ... 1.22781562e-05\n",
      " 1.22781562e-05 4.63501380e-06]\n",
      "Iteración 26: r = [1.59979520e-04 8.84616899e-05 1.54423911e-05 ... 1.22780200e-05\n",
      " 1.22780200e-05 4.63496223e-06]\n",
      "Iteración 27: r = [1.59976414e-04 8.84597424e-05 1.54421352e-05 ... 1.22779067e-05\n",
      " 1.22779067e-05 4.63492401e-06]\n",
      "Iteración 28: r = [1.59973939e-04 8.84581899e-05 1.54419310e-05 ... 1.22778130e-05\n",
      " 1.22778130e-05 4.63489561e-06]\n",
      "Iteración 29: r = [1.59971967e-04 8.84569528e-05 1.54417683e-05 ... 1.22777358e-05\n",
      " 1.22777358e-05 4.63487443e-06]\n",
      "Iteración 30: r = [1.59970398e-04 8.84559675e-05 1.54416386e-05 ... 1.22776724e-05\n",
      " 1.22776724e-05 4.63485858e-06]\n",
      "Iteración 31: r = [1.59969149e-04 8.84551831e-05 1.54415353e-05 ... 1.22776206e-05\n",
      " 1.22776206e-05 4.63484668e-06]\n",
      "Iteración 32: r = [1.59968155e-04 8.84545587e-05 1.54414530e-05 ... 1.22775784e-05\n",
      " 1.22775784e-05 4.63483772e-06]\n",
      "Iteración 33: r = [1.59967364e-04 8.84540618e-05 1.54413876e-05 ... 1.22775440e-05\n",
      " 1.22775440e-05 4.63483096e-06]\n",
      "Iteración 34: r = [1.59966735e-04 8.84536665e-05 1.54413355e-05 ... 1.22775160e-05\n",
      " 1.22775160e-05 4.63482583e-06]\n",
      "Iteración 35: r = [1.59966235e-04 8.84533521e-05 1.54412941e-05 ... 1.22774933e-05\n",
      " 1.22774933e-05 4.63482193e-06]\n",
      "Iteración 36: r = [1.59965837e-04 8.84531020e-05 1.54412612e-05 ... 1.22774750e-05\n",
      " 1.22774750e-05 4.63481896e-06]\n",
      "Iteración 37: r = [1.59965521e-04 8.84529032e-05 1.54412350e-05 ... 1.22774601e-05\n",
      " 1.22774601e-05 4.63481669e-06]\n",
      "Iteración 38: r = [1.59965270e-04 8.84527451e-05 1.54412142e-05 ... 1.22774482e-05\n",
      " 1.22774482e-05 4.63481494e-06]\n",
      "Iteración 39: r = [1.59965070e-04 8.84526194e-05 1.54411976e-05 ... 1.22774385e-05\n",
      " 1.22774385e-05 4.63481360e-06]\n",
      "Iteración 40: r = [1.59964911e-04 8.84525195e-05 1.54411845e-05 ... 1.22774307e-05\n",
      " 1.22774307e-05 4.63481257e-06]\n",
      "Iteración 41: r = [1.59964785e-04 8.84524400e-05 1.54411740e-05 ... 1.22774244e-05\n",
      " 1.22774244e-05 4.63481178e-06]\n",
      "Iteración 42: r = [1.59964685e-04 8.84523769e-05 1.54411657e-05 ... 1.22774194e-05\n",
      " 1.22774194e-05 4.63481116e-06]\n",
      "Iteración 43: r = [1.59964605e-04 8.84523267e-05 1.54411591e-05 ... 1.22774153e-05\n",
      " 1.22774153e-05 4.63481068e-06]\n",
      "Iteración 44: r = [1.59964542e-04 8.84522868e-05 1.54411539e-05 ... 1.22774120e-05\n",
      " 1.22774120e-05 4.63481031e-06]\n",
      "Iteración 45: r = [1.59964491e-04 8.84522551e-05 1.54411497e-05 ... 1.22774094e-05\n",
      " 1.22774094e-05 4.63481002e-06]\n",
      "Iteración 46: r = [1.59964451e-04 8.84522300e-05 1.54411464e-05 ... 1.22774073e-05\n",
      " 1.22774073e-05 4.63480979e-06]\n",
      "Iteración 47: r = [1.59964419e-04 8.84522099e-05 1.54411437e-05 ... 1.22774056e-05\n",
      " 1.22774056e-05 4.63480961e-06]\n",
      "Iteración 48: r = [1.59964394e-04 8.84521940e-05 1.54411416e-05 ... 1.22774043e-05\n",
      " 1.22774043e-05 4.63480948e-06]\n",
      "Iteración 49: r = [1.59964374e-04 8.84521814e-05 1.54411400e-05 ... 1.22774032e-05\n",
      " 1.22774032e-05 4.63480937e-06]\n",
      "Tardó: 0.587 segundos\n",
      "\n",
      "Páginas con mayor ranking\n",
      "[(2494, 0.002066180490005153), (398, 0.001900529795115309), (381, 0.0018039132856819422), (37, 0.0013961801750718794), (4805, 0.0013335105176675095)]\n"
     ]
    }
   ],
   "source": [
    "aux = pagerank_escalable_css(csr_matrix(M),iter=50)\n",
    "a = np.argsort(aux)[::-1]\n",
    "print(\"\\nPáginas con mayor ranking\")\n",
    "print(list(zip(a[:5],aux[a[:5]])))"
   ]
  },
  {
   "cell_type": "code",
   "execution_count": 41,
   "metadata": {},
   "outputs": [
    {
     "data": {
      "image/png": "[encoded data removed]",
      "text/plain": [
       "<Figure size 576x216 with 1 Axes>"
      ]
     },
     "metadata": {
      "needs_background": "light"
     },
     "output_type": "display_data"
    }
   ],
   "source": [
    "plotea(aux,'Escalable con callejón beta=0.8')"
   ]
  },
  {
   "cell_type": "code",
   "execution_count": 42,
   "metadata": {},
   "outputs": [
    {
     "data": {
      "image/png": "[encoded data removed]",
      "text/plain": [
       "<Figure size 576x216 with 1 Axes>"
      ]
     },
     "metadata": {
      "needs_background": "light"
     },
     "output_type": "display_data"
    }
   ],
   "source": [
    "ori,dest,nod = obten_destinos_origenes(aux,data)\n",
    "grafica_datos(nod,ori,dest)"
   ]
  },
  {
   "cell_type": "code",
   "execution_count": 43,
   "metadata": {},
   "outputs": [
    {
     "name": "stdout",
     "output_type": "stream",
     "text": [
      "Iteración 0: r = [1.21701879e-05 1.21701879e-05 1.21701879e-05 ... 1.21701879e-05\n",
      " 1.21701879e-05 1.21701879e-05]\n",
      "Iteración 1: r = [1.63063822e-04 4.78723102e-05 1.72803126e-05 ... 1.17542408e-05\n",
      " 1.17542408e-05 5.36489219e-06]\n",
      "Iteración 2: r = [1.65980128e-04 9.02777232e-05 1.30088549e-05 ... 1.20396239e-05\n",
      " 1.20396239e-05 4.22567209e-06]\n",
      "Iteración 3: r = [1.80692503e-04 9.85897763e-05 1.56647231e-05 ... 1.21727745e-05\n",
      " 1.21727745e-05 3.85440557e-06]\n",
      "Iteración 4: r = [1.81205680e-04 1.04725978e-04 1.56456100e-05 ... 1.22463445e-05\n",
      " 1.22463445e-05 3.66279579e-06]\n",
      "Iteración 5: r = [1.83252877e-04 1.06520876e-04 1.60721475e-05 ... 1.23215410e-05\n",
      " 1.23215410e-05 3.53670111e-06]\n",
      "Iteración 6: r = [1.83539811e-04 1.07611664e-04 1.61252181e-05 ... 1.23732518e-05\n",
      " 1.23732518e-05 3.44759061e-06]\n",
      "Iteración 7: r = [1.83690863e-04 1.07917647e-04 1.61838764e-05 ... 1.24157149e-05\n",
      " 1.24157149e-05 3.38396333e-06]\n",
      "Iteración 8: r = [1.83623047e-04 1.08030136e-04 1.61898772e-05 ... 1.24463420e-05\n",
      " 1.24463420e-05 3.33537260e-06]\n",
      "Iteración 9: r = [1.83420790e-04 1.07967986e-04 1.61847327e-05 ... 1.24688892e-05\n",
      " 1.24688892e-05 3.29782069e-06]\n",
      "Iteración 10: r = [1.83190041e-04 1.07854022e-04 1.61713559e-05 ... 1.24844687e-05\n",
      " 1.24844687e-05 3.26814826e-06]\n",
      "Iteración 11: r = [1.82915539e-04 1.07701079e-04 1.61534570e-05 ... 1.24948392e-05\n",
      " 1.24948392e-05 3.24455022e-06]\n",
      "Iteración 12: r = [1.82645575e-04 1.07539780e-04 1.61344741e-05 ... 1.25011470e-05\n",
      " 1.25011470e-05 3.22564628e-06]\n",
      "Iteración 13: r = [1.82374370e-04 1.07376023e-04 1.61146856e-05 ... 1.25044281e-05\n",
      " 1.25044281e-05 3.21045876e-06]\n",
      "Iteración 14: r = [1.82118059e-04 1.07218267e-04 1.60954845e-05 ... 1.25054572e-05\n",
      " 1.25054572e-05 3.19821883e-06]\n",
      "Iteración 15: r = [1.81875457e-04 1.07068653e-04 1.60769466e-05 ... 1.25048572e-05\n",
      " 1.25048572e-05 3.18833534e-06]\n",
      "Iteración 16: r = [1.81650964e-04 1.06929343e-04 1.60595320e-05 ... 1.25031021e-05\n",
      " 1.25031021e-05 3.18033691e-06]\n",
      "Iteración 17: r = [1.81443879e-04 1.06800698e-04 1.60432650e-05 ... 1.25005578e-05\n",
      " 1.25005578e-05 3.17385117e-06]\n",
      "Iteración 18: r = [1.81254671e-04 1.06682868e-04 1.60282537e-05 ... 1.24975006e-05\n",
      " 1.24975006e-05 3.16858025e-06]\n",
      "Iteración 19: r = [1.81082346e-04 1.06575457e-04 1.60144677e-05 ... 1.24941389e-05\n",
      " 1.24941389e-05 3.16428680e-06]\n",
      "Iteración 20: r = [1.80926123e-04 1.06477957e-04 1.60018857e-05 ... 1.24906270e-05\n",
      " 1.24906270e-05 3.16078084e-06]\n",
      "Iteración 21: r = [1.80784830e-04 1.06389707e-04 1.59904427e-05 ... 1.24870784e-05\n",
      " 1.24870784e-05 3.15791049e-06]\n",
      "Iteración 22: r = [1.80657359e-04 1.06310021e-04 1.59800727e-05 ... 1.24835747e-05\n",
      " 1.24835747e-05 3.15555403e-06]\n",
      "Iteración 23: r = [1.80542542e-04 1.06238199e-04 1.59706977e-05 ... 1.24801732e-05\n",
      " 1.24801732e-05 3.15361393e-06]\n",
      "Iteración 24: r = [1.80439275e-04 1.06173558e-04 1.59622406e-05 ... 1.24769131e-05\n",
      " 1.24769131e-05 3.15201186e-06]\n",
      "Iteración 25: r = [1.80346494e-04 1.06115449e-04 1.59546240e-05 ... 1.24738193e-05\n",
      " 1.24738193e-05 3.15068488e-06]\n",
      "Iteración 26: r = [1.80263211e-04 1.06063260e-04 1.59477738e-05 ... 1.24709064e-05\n",
      " 1.24709064e-05 3.14958232e-06]\n",
      "Iteración 27: r = [1.80188506e-04 1.06016424e-04 1.59416196e-05 ... 1.24681815e-05\n",
      " 1.24681815e-05 3.14866328e-06]\n",
      "Iteración 28: r = [1.80121537e-04 1.05974418e-04 1.59360956e-05 ... 1.24656457e-05\n",
      " 1.24656457e-05 3.14789475e-06]\n",
      "Iteración 29: r = [1.80061529e-04 1.05936763e-04 1.59311410e-05 ... 1.24632963e-05\n",
      " 1.24632963e-05 3.14724998e-06]\n",
      "Iteración 30: r = [1.80007781e-04 1.05903024e-04 1.59266997e-05 ... 1.24611274e-05\n",
      " 1.24611274e-05 3.14670728e-06]\n",
      "Iteración 31: r = [1.79959656e-04 1.05872803e-04 1.59227204e-05 ... 1.24591315e-05\n",
      " 1.24591315e-05 3.14624900e-06]\n",
      "Iteración 32: r = [1.79916576e-04 1.05845742e-04 1.59191566e-05 ... 1.24572996e-05\n",
      " 1.24572996e-05 3.14586075e-06]\n",
      "Iteración 33: r = [1.79878022e-04 1.05821517e-04 1.59159659e-05 ... 1.24556221e-05\n",
      " 1.24556221e-05 3.14553080e-06]\n",
      "Iteración 34: r = [1.79843525e-04 1.05799836e-04 1.59131101e-05 ... 1.24540890e-05\n",
      " 1.24540890e-05 3.14524949e-06]\n",
      "Iteración 35: r = [1.79812663e-04 1.05780433e-04 1.59105546e-05 ... 1.24526904e-05\n",
      " 1.24526904e-05 3.14500894e-06]\n",
      "Iteración 36: r = [1.79785056e-04 1.05763074e-04 1.59082682e-05 ... 1.24514163e-05\n",
      " 1.24514163e-05 3.14480262e-06]\n",
      "Iteración 37: r = [1.79760364e-04 1.05747544e-04 1.59062229e-05 ... 1.24502573e-05\n",
      " 1.24502573e-05 3.14462516e-06]\n",
      "Iteración 38: r = [1.79738282e-04 1.05733653e-04 1.59043936e-05 ... 1.24492042e-05\n",
      " 1.24492042e-05 3.14447209e-06]\n",
      "Iteración 39: r = [1.79718534e-04 1.05721228e-04 1.59027575e-05 ... 1.24482484e-05\n",
      " 1.24482484e-05 3.14433972e-06]\n",
      "Iteración 40: r = [1.79700877e-04 1.05710117e-04 1.59012945e-05 ... 1.24473816e-05\n",
      " 1.24473816e-05 3.14422495e-06]\n",
      "Iteración 41: r = [1.79685088e-04 1.05700180e-04 1.58999863e-05 ... 1.24465963e-05\n",
      " 1.24465963e-05 3.14412522e-06]\n",
      "Iteración 42: r = [1.79670972e-04 1.05691295e-04 1.58988167e-05 ... 1.24458854e-05\n",
      " 1.24458854e-05 3.14403834e-06]\n",
      "Iteración 43: r = [1.79658352e-04 1.05683350e-04 1.58977709e-05 ... 1.24452421e-05\n",
      " 1.24452421e-05 3.14396251e-06]\n",
      "Iteración 44: r = [1.79647069e-04 1.05676246e-04 1.58968360e-05 ... 1.24446606e-05\n",
      " 1.24446606e-05 3.14389619e-06]\n",
      "Iteración 45: r = [1.79636983e-04 1.05669895e-04 1.58960002e-05 ... 1.24441351e-05\n",
      " 1.24441351e-05 3.14383808e-06]\n",
      "Iteración 46: r = [1.79627966e-04 1.05664217e-04 1.58952530e-05 ... 1.24436604e-05\n",
      " 1.24436604e-05 3.14378707e-06]\n",
      "Iteración 47: r = [1.79619905e-04 1.05659141e-04 1.58945851e-05 ... 1.24432320e-05\n",
      " 1.24432320e-05 3.14374222e-06]\n",
      "Iteración 48: r = [1.79612700e-04 1.05654603e-04 1.58939881e-05 ... 1.24428454e-05\n",
      " 1.24428454e-05 3.14370273e-06]\n",
      "Iteración 49: r = [1.79606260e-04 1.05650546e-04 1.58934544e-05 ... 1.24424967e-05\n",
      " 1.24424967e-05 3.14366792e-06]\n",
      "Tardó: 0.613 segundos\n",
      "\n",
      "Páginas con mayor ranking\n",
      "[(2494, 0.002138463461937203), (398, 0.001987836445102327), (381, 0.0017938436054942232), (4805, 0.0015186868617305404), (37, 0.00143297427031904)]\n"
     ]
    }
   ],
   "source": [
    "aux = pagerank_escalable_css(csr_matrix(M),beta=0.9,iter=50)\n",
    "a = np.argsort(aux)[::-1]\n",
    "print(\"\\nPáginas con mayor ranking\")\n",
    "print(list(zip(a[:5],aux[a[:5]])))"
   ]
  },
  {
   "cell_type": "code",
   "execution_count": 44,
   "metadata": {},
   "outputs": [
    {
     "data": {
      "image/png": "[encoded data removed]",
      "text/plain": [
       "<Figure size 576x216 with 1 Axes>"
      ]
     },
     "metadata": {
      "needs_background": "light"
     },
     "output_type": "display_data"
    }
   ],
   "source": [
    "plotea(aux,'Escalable con callejón beta=0.9')"
   ]
  },
  {
   "cell_type": "code",
   "execution_count": 45,
   "metadata": {},
   "outputs": [
    {
     "data": {
      "image/png": "[encoded data removed]",
      "text/plain": [
       "<Figure size 576x216 with 1 Axes>"
      ]
     },
     "metadata": {
      "needs_background": "light"
     },
     "output_type": "display_data"
    }
   ],
   "source": [
    "ori,dest,nod = obten_destinos_origenes(aux,data)\n",
    "grafica_datos(nod,ori,dest)"
   ]
  },
  {
   "cell_type": "markdown",
   "metadata": {},
   "source": [
    "# Conclusiones.\n",
    "\n",
    "En el presente notebook se compararon los rendimientos entre los algoritmos: **PageRank**, **PageRank escalable sin callejones** y **PageRank escalable con callejones**. Probablemente, aquél que se tardó menos iteraciones fue: **PageRank escalable con callejones beta = 0.8**. sin embargo, aquél que dió la puntuación más alta dentro de sus rankings fue: **PageRank escalable con callejones beta = 0.9**. El que dió la menor puntuación fue **PageRank (normal)**\n",
    "- **PageRank**\n",
    "    * 50 iteraciones\n",
    "    * Nodos con mayor ranking: \\[ 19 349, <span style=\"color:red\">2 494 </span>, 398, 5 876,<span style=\"color:red\"> 4 805</span>, 26 289, 26 290, <span style=\"color:red\">381 </span>, 15 570, 8 394\\]\n",
    "    * Nodos balanceados (Apuntan, le apuntan)\n",
    "    * Mayor valor 0.0008636\n",
    "    * No se ve un punto que absorba\n",
    "- **PageRank escalable sin callejones beta = 0.8:**\n",
    "    * 50 iteraciones\n",
    "    * Nodos con mayor ranking: \\[ <span style=\"color:red\">2 494 </span>, <span style=\"color:red\">398 </span>, <span style=\"color:red\">381 </span>, 37,<span style=\"color:red\"> 4 805</span>, 226, 5 706, 4 826, 219, 5 057 \\]\n",
    "    * Los últimos 2 son callejones\n",
    "    * Mayor valor 0.001888\n",
    "    * Aparenta mantenerse desde la iteración 9\n",
    "- **PageRank escalable sin callejones beta = 0.9:**\n",
    "    * 50 iteraciones\n",
    "    * Nodos con mayor ranking \\[ <span style=\"color:red\">2 494 </span>, <span style=\"color:red\">398 </span>, <span style=\"color:red\">381 </span>, <span style=\"color:red\">4 805</span>, 37, 226, 5 706, 4 826, 219, 5 057 \\]\n",
    "    * Los 2 últimos son callejones\n",
    "    * Mayor valor 0.001820\n",
    "    * Aparenta mantenerse desde la iteración 43\n",
    "- **PageRank escalable con callejones beta = 0.8:**\n",
    "    * 50 iteraciones\n",
    "    * Nodos con mayor ranking \\[ <span style=\"color:red\">2 494 </span>, <span style=\"color:red\">398 </span>, <span style=\"color:red\">381 </span>, <span style=\"color:red\">4 805</span>, 37, 226, 5 706, 4 826, 219, 5 057 \\]\n",
    "    * Los 2 últimos son callejones\n",
    "    * Mayor valor 0.002066\n",
    "    * Aparenta mantenerse desde la iteración 9\n",
    "- **PageRank escalable con callejones beta = 0.9:**\n",
    "    * 50 iteraciones\n",
    "    * Nodos con mayor ranking \\[ <span style=\"color:red\">2 494 </span>, <span style=\"color:red\">398 </span>, <span style=\"color:red\">381 </span>,<span style=\"color:red\"> 4 805</span>, 37, 226, 5 706, 4 826, 219, 5 075 \\]\n",
    "    * Los 2 últimos son callejones\n",
    "    * Mayor valor 0.002138\n",
    "    * Aparenta mantenerse desde la iteración 18\n",
    "    \n",
    "Mejores gráficas: \n",
    "- **Escalable sin callejones beta=0.9**\n",
    "- **Escalable con callejones beta=0.9**\n",
    "\n",
    "Exceptuando PageRank (normal), todos presentan los mismos valores."
   ]
  }
 ],
 "metadata": {
  "kernelspec": {
   "display_name": "Python 3",
   "language": "python",
   "name": "python3"
  },
  "language_info": {
   "codemirror_mode": {
    "name": "ipython",
    "version": 3
   },
   "file_extension": ".py",
   "mimetype": "text/x-python",
   "name": "python",
   "nbconvert_exporter": "python",
   "pygments_lexer": "ipython3",
   "version": "3.8.5"
  }
 },
 "nbformat": 4,
 "nbformat_minor": 4
}
