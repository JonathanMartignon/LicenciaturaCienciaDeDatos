{
 "cells": [
  {
   "cell_type": "markdown",
   "metadata": {},
   "source": [
    "# Martiñón Luna Jonathan José\n",
    "## Licenciatura en Ciencia de datos\n",
    "## Datos Masivos II\n",
    "### Mini-proyecto unidad 2\n",
    "#### Noviembre 6, 2020"
   ]
  },
  {
   "cell_type": "markdown",
   "metadata": {},
   "source": [
    "**Objetivo del mini-proyecto**: \n",
    "\n",
    "Implementar el código del algoritmo FP-Tree en una libreta usando python.\n",
    "Requisitos:\n",
    "- La identificación de los elementos frecuentes deberá realizarse con al menos dos valores de soporte diferentes describiendo qué observaste y si se repitió algún conjunto de elementos.\n",
    "- El código debe estar debidamente documentado y funcionando.\n",
    "- Para la identificación de los elementos frecuentes deberás usar la siguiente base de datos: Groceries dataset"
   ]
  },
  {
   "cell_type": "markdown",
   "metadata": {},
   "source": [
    "# Sobre los datos.\n",
    "\n",
    "- Conjunto usado para identificar reglas de asociación entre productos y uso de algoritmo apriori.\n",
    "- 38,765 registros de compras.\n",
    "- 3 columnas: Member_number **(int)**, Date **(Date)**, itemDescription **(Str)**\n",
    "- 3898 Números únicos de miembros\n",
    "- 728 Fechas distintas\n",
    "- 167 productos distintos\n",
    "- No existen datos faltantes"
   ]
  },
  {
   "cell_type": "markdown",
   "metadata": {},
   "source": [
    "# Explorando los datos"
   ]
  },
  {
   "cell_type": "code",
   "execution_count": 1,
   "metadata": {},
   "outputs": [],
   "source": [
    "import pandas as pd\n",
    "from matplotlib import pyplot as plt\n",
    "from collections import Counter\n",
    "import numpy as np\n",
    "from time import time"
   ]
  },
  {
   "cell_type": "code",
   "execution_count": 2,
   "metadata": {},
   "outputs": [],
   "source": [
    "data = pd.read_csv('./Groceries_dataset.csv')"
   ]
  },
  {
   "cell_type": "code",
   "execution_count": 3,
   "metadata": {},
   "outputs": [
    {
     "data": {
      "text/html": [
       "<div>\n",
       "<style scoped>\n",
       "    .dataframe tbody tr th:only-of-type {\n",
       "        vertical-align: middle;\n",
       "    }\n",
       "\n",
       "    .dataframe tbody tr th {\n",
       "        vertical-align: top;\n",
       "    }\n",
       "\n",
       "    .dataframe thead th {\n",
       "        text-align: right;\n",
       "    }\n",
       "</style>\n",
       "<table border=\"1\" class=\"dataframe\">\n",
       "  <thead>\n",
       "    <tr style=\"text-align: right;\">\n",
       "      <th></th>\n",
       "      <th>Member_number</th>\n",
       "      <th>Date</th>\n",
       "      <th>itemDescription</th>\n",
       "    </tr>\n",
       "  </thead>\n",
       "  <tbody>\n",
       "    <tr>\n",
       "      <th>0</th>\n",
       "      <td>1808</td>\n",
       "      <td>21-07-2015</td>\n",
       "      <td>tropical fruit</td>\n",
       "    </tr>\n",
       "    <tr>\n",
       "      <th>1</th>\n",
       "      <td>2552</td>\n",
       "      <td>05-01-2015</td>\n",
       "      <td>whole milk</td>\n",
       "    </tr>\n",
       "    <tr>\n",
       "      <th>2</th>\n",
       "      <td>2300</td>\n",
       "      <td>19-09-2015</td>\n",
       "      <td>pip fruit</td>\n",
       "    </tr>\n",
       "    <tr>\n",
       "      <th>3</th>\n",
       "      <td>1187</td>\n",
       "      <td>12-12-2015</td>\n",
       "      <td>other vegetables</td>\n",
       "    </tr>\n",
       "    <tr>\n",
       "      <th>4</th>\n",
       "      <td>3037</td>\n",
       "      <td>01-02-2015</td>\n",
       "      <td>whole milk</td>\n",
       "    </tr>\n",
       "  </tbody>\n",
       "</table>\n",
       "</div>"
      ],
      "text/plain": [
       "   Member_number        Date   itemDescription\n",
       "0           1808  21-07-2015    tropical fruit\n",
       "1           2552  05-01-2015        whole milk\n",
       "2           2300  19-09-2015         pip fruit\n",
       "3           1187  12-12-2015  other vegetables\n",
       "4           3037  01-02-2015        whole milk"
      ]
     },
     "execution_count": 3,
     "metadata": {},
     "output_type": "execute_result"
    }
   ],
   "source": [
    "data.head()"
   ]
  },
  {
   "cell_type": "code",
   "execution_count": 4,
   "metadata": {},
   "outputs": [
    {
     "data": {
      "text/plain": [
       "(38765, 3)"
      ]
     },
     "execution_count": 4,
     "metadata": {},
     "output_type": "execute_result"
    }
   ],
   "source": [
    "data.shape"
   ]
  },
  {
   "cell_type": "code",
   "execution_count": 5,
   "metadata": {},
   "outputs": [
    {
     "data": {
      "text/plain": [
       "Member_number       int64\n",
       "Date               object\n",
       "itemDescription    object\n",
       "dtype: object"
      ]
     },
     "execution_count": 5,
     "metadata": {},
     "output_type": "execute_result"
    }
   ],
   "source": [
    "data.dtypes #Hay que ajustar los datos de ''Date'' a tipo fecha "
   ]
  },
  {
   "cell_type": "code",
   "execution_count": 6,
   "metadata": {},
   "outputs": [
    {
     "name": "stdout",
     "output_type": "stream",
     "text": [
      "De los 38765 contamos con 3898 miembros únicos, 728 Fechas distintas y 167.\n"
     ]
    }
   ],
   "source": [
    "print(f\"De los {data.shape[0]} contamos con {len(data.Member_number.unique())} miembros únicos, {len(data.Date.unique())} Fechas distintas y {len(data.itemDescription.unique())}.\")"
   ]
  },
  {
   "cell_type": "code",
   "execution_count": 7,
   "metadata": {},
   "outputs": [
    {
     "data": {
      "text/plain": [
       "Member_number      0\n",
       "Date               0\n",
       "itemDescription    0\n",
       "dtype: int64"
      ]
     },
     "execution_count": 7,
     "metadata": {},
     "output_type": "execute_result"
    }
   ],
   "source": [
    "data.isnull().sum()"
   ]
  },
  {
   "cell_type": "markdown",
   "metadata": {},
   "source": [
    "# Preparando los datos"
   ]
  },
  {
   "cell_type": "markdown",
   "metadata": {},
   "source": [
    "**Convirtiendo a datetime**"
   ]
  },
  {
   "cell_type": "code",
   "execution_count": 8,
   "metadata": {},
   "outputs": [],
   "source": [
    "data['Date'] = pd.to_datetime(data['Date'], format='%d-%m-%Y')"
   ]
  },
  {
   "cell_type": "code",
   "execution_count": 9,
   "metadata": {},
   "outputs": [
    {
     "data": {
      "text/plain": [
       "Member_number               int64\n",
       "Date               datetime64[ns]\n",
       "itemDescription            object\n",
       "dtype: object"
      ]
     },
     "execution_count": 9,
     "metadata": {},
     "output_type": "execute_result"
    }
   ],
   "source": [
    "data.dtypes"
   ]
  },
  {
   "cell_type": "markdown",
   "metadata": {},
   "source": [
    "**Agruparemos por Número de miembro y día,para obtener el ticket de compra como tal**."
   ]
  },
  {
   "cell_type": "code",
   "execution_count": 10,
   "metadata": {},
   "outputs": [],
   "source": [
    "group_data = data.groupby(['Date','Member_number']).agg(lambda x: list(x))"
   ]
  },
  {
   "cell_type": "code",
   "execution_count": 11,
   "metadata": {},
   "outputs": [
    {
     "data": {
      "text/html": [
       "<div>\n",
       "<style scoped>\n",
       "    .dataframe tbody tr th:only-of-type {\n",
       "        vertical-align: middle;\n",
       "    }\n",
       "\n",
       "    .dataframe tbody tr th {\n",
       "        vertical-align: top;\n",
       "    }\n",
       "\n",
       "    .dataframe thead th {\n",
       "        text-align: right;\n",
       "    }\n",
       "</style>\n",
       "<table border=\"1\" class=\"dataframe\">\n",
       "  <thead>\n",
       "    <tr style=\"text-align: right;\">\n",
       "      <th></th>\n",
       "      <th></th>\n",
       "      <th>itemDescription</th>\n",
       "    </tr>\n",
       "    <tr>\n",
       "      <th>Date</th>\n",
       "      <th>Member_number</th>\n",
       "      <th></th>\n",
       "    </tr>\n",
       "  </thead>\n",
       "  <tbody>\n",
       "    <tr>\n",
       "      <th rowspan=\"5\" valign=\"top\">2014-01-01</th>\n",
       "      <th>1249</th>\n",
       "      <td>[citrus fruit, coffee]</td>\n",
       "    </tr>\n",
       "    <tr>\n",
       "      <th>1381</th>\n",
       "      <td>[curd, soda]</td>\n",
       "    </tr>\n",
       "    <tr>\n",
       "      <th>1440</th>\n",
       "      <td>[other vegetables, yogurt]</td>\n",
       "    </tr>\n",
       "    <tr>\n",
       "      <th>1659</th>\n",
       "      <td>[specialty chocolate, frozen vegetables]</td>\n",
       "    </tr>\n",
       "    <tr>\n",
       "      <th>1789</th>\n",
       "      <td>[hamburger meat, candles]</td>\n",
       "    </tr>\n",
       "    <tr>\n",
       "      <th>...</th>\n",
       "      <th>...</th>\n",
       "      <td>...</td>\n",
       "    </tr>\n",
       "    <tr>\n",
       "      <th rowspan=\"5\" valign=\"top\">2015-12-30</th>\n",
       "      <th>3738</th>\n",
       "      <td>[onions, flour]</td>\n",
       "    </tr>\n",
       "    <tr>\n",
       "      <th>3971</th>\n",
       "      <td>[brown bread, bottled beer]</td>\n",
       "    </tr>\n",
       "    <tr>\n",
       "      <th>4058</th>\n",
       "      <td>[domestic eggs, cream cheese ]</td>\n",
       "    </tr>\n",
       "    <tr>\n",
       "      <th>4565</th>\n",
       "      <td>[canned beer, canned beer]</td>\n",
       "    </tr>\n",
       "    <tr>\n",
       "      <th>4863</th>\n",
       "      <td>[dessert, curd]</td>\n",
       "    </tr>\n",
       "  </tbody>\n",
       "</table>\n",
       "<p>14963 rows × 1 columns</p>\n",
       "</div>"
      ],
      "text/plain": [
       "                                                   itemDescription\n",
       "Date       Member_number                                          \n",
       "2014-01-01 1249                             [citrus fruit, coffee]\n",
       "           1381                                       [curd, soda]\n",
       "           1440                         [other vegetables, yogurt]\n",
       "           1659           [specialty chocolate, frozen vegetables]\n",
       "           1789                          [hamburger meat, candles]\n",
       "...                                                            ...\n",
       "2015-12-30 3738                                    [onions, flour]\n",
       "           3971                        [brown bread, bottled beer]\n",
       "           4058                     [domestic eggs, cream cheese ]\n",
       "           4565                         [canned beer, canned beer]\n",
       "           4863                                    [dessert, curd]\n",
       "\n",
       "[14963 rows x 1 columns]"
      ]
     },
     "execution_count": 11,
     "metadata": {},
     "output_type": "execute_result"
    }
   ],
   "source": [
    "group_data"
   ]
  },
  {
   "cell_type": "code",
   "execution_count": 12,
   "metadata": {},
   "outputs": [
    {
     "data": {
      "text/plain": [
       "pandas.core.frame.DataFrame"
      ]
     },
     "execution_count": 12,
     "metadata": {},
     "output_type": "execute_result"
    }
   ],
   "source": [
    "type(group_data)"
   ]
  },
  {
   "cell_type": "markdown",
   "metadata": {},
   "source": [
    "**Eliminamos nuestro multi-index para regresar de DataFrameGroupby a Dataframe**"
   ]
  },
  {
   "cell_type": "code",
   "execution_count": 13,
   "metadata": {},
   "outputs": [],
   "source": [
    "prep_data = group_data.reset_index()"
   ]
  },
  {
   "cell_type": "code",
   "execution_count": 14,
   "metadata": {},
   "outputs": [
    {
     "data": {
      "text/html": [
       "<div>\n",
       "<style scoped>\n",
       "    .dataframe tbody tr th:only-of-type {\n",
       "        vertical-align: middle;\n",
       "    }\n",
       "\n",
       "    .dataframe tbody tr th {\n",
       "        vertical-align: top;\n",
       "    }\n",
       "\n",
       "    .dataframe thead th {\n",
       "        text-align: right;\n",
       "    }\n",
       "</style>\n",
       "<table border=\"1\" class=\"dataframe\">\n",
       "  <thead>\n",
       "    <tr style=\"text-align: right;\">\n",
       "      <th></th>\n",
       "      <th>Date</th>\n",
       "      <th>Member_number</th>\n",
       "      <th>itemDescription</th>\n",
       "    </tr>\n",
       "  </thead>\n",
       "  <tbody>\n",
       "    <tr>\n",
       "      <th>0</th>\n",
       "      <td>2014-01-01</td>\n",
       "      <td>1249</td>\n",
       "      <td>[citrus fruit, coffee]</td>\n",
       "    </tr>\n",
       "    <tr>\n",
       "      <th>1</th>\n",
       "      <td>2014-01-01</td>\n",
       "      <td>1381</td>\n",
       "      <td>[curd, soda]</td>\n",
       "    </tr>\n",
       "    <tr>\n",
       "      <th>2</th>\n",
       "      <td>2014-01-01</td>\n",
       "      <td>1440</td>\n",
       "      <td>[other vegetables, yogurt]</td>\n",
       "    </tr>\n",
       "    <tr>\n",
       "      <th>3</th>\n",
       "      <td>2014-01-01</td>\n",
       "      <td>1659</td>\n",
       "      <td>[specialty chocolate, frozen vegetables]</td>\n",
       "    </tr>\n",
       "    <tr>\n",
       "      <th>4</th>\n",
       "      <td>2014-01-01</td>\n",
       "      <td>1789</td>\n",
       "      <td>[hamburger meat, candles]</td>\n",
       "    </tr>\n",
       "  </tbody>\n",
       "</table>\n",
       "</div>"
      ],
      "text/plain": [
       "        Date  Member_number                           itemDescription\n",
       "0 2014-01-01           1249                    [citrus fruit, coffee]\n",
       "1 2014-01-01           1381                              [curd, soda]\n",
       "2 2014-01-01           1440                [other vegetables, yogurt]\n",
       "3 2014-01-01           1659  [specialty chocolate, frozen vegetables]\n",
       "4 2014-01-01           1789                 [hamburger meat, candles]"
      ]
     },
     "execution_count": 14,
     "metadata": {},
     "output_type": "execute_result"
    }
   ],
   "source": [
    "prep_data.head()"
   ]
  },
  {
   "cell_type": "code",
   "execution_count": 15,
   "metadata": {},
   "outputs": [
    {
     "data": {
      "text/plain": [
       "pandas.core.frame.DataFrame"
      ]
     },
     "execution_count": 15,
     "metadata": {},
     "output_type": "execute_result"
    }
   ],
   "source": [
    "type(prep_data)"
   ]
  },
  {
   "cell_type": "code",
   "execution_count": 16,
   "metadata": {},
   "outputs": [
    {
     "data": {
      "text/plain": [
       "Date               datetime64[ns]\n",
       "Member_number               int64\n",
       "itemDescription            object\n",
       "dtype: object"
      ]
     },
     "execution_count": 16,
     "metadata": {},
     "output_type": "execute_result"
    }
   ],
   "source": [
    "prep_data.dtypes"
   ]
  },
  {
   "cell_type": "markdown",
   "metadata": {},
   "source": [
    "**Realmente no necesitamos ni fecha, ni el número de miembro; lo único que nos interesa es la compra como tal, por lo que nuestro Dataframe Final sólo tendra las compras**"
   ]
  },
  {
   "cell_type": "code",
   "execution_count": 17,
   "metadata": {},
   "outputs": [],
   "source": [
    "new_data = pd.DataFrame(data={'Compra':prep_data['itemDescription']}) "
   ]
  },
  {
   "cell_type": "code",
   "execution_count": 18,
   "metadata": {},
   "outputs": [
    {
     "data": {
      "text/html": [
       "<div>\n",
       "<style scoped>\n",
       "    .dataframe tbody tr th:only-of-type {\n",
       "        vertical-align: middle;\n",
       "    }\n",
       "\n",
       "    .dataframe tbody tr th {\n",
       "        vertical-align: top;\n",
       "    }\n",
       "\n",
       "    .dataframe thead th {\n",
       "        text-align: right;\n",
       "    }\n",
       "</style>\n",
       "<table border=\"1\" class=\"dataframe\">\n",
       "  <thead>\n",
       "    <tr style=\"text-align: right;\">\n",
       "      <th></th>\n",
       "      <th>Compra</th>\n",
       "    </tr>\n",
       "  </thead>\n",
       "  <tbody>\n",
       "    <tr>\n",
       "      <th>0</th>\n",
       "      <td>[citrus fruit, coffee]</td>\n",
       "    </tr>\n",
       "    <tr>\n",
       "      <th>1</th>\n",
       "      <td>[curd, soda]</td>\n",
       "    </tr>\n",
       "    <tr>\n",
       "      <th>2</th>\n",
       "      <td>[other vegetables, yogurt]</td>\n",
       "    </tr>\n",
       "    <tr>\n",
       "      <th>3</th>\n",
       "      <td>[specialty chocolate, frozen vegetables]</td>\n",
       "    </tr>\n",
       "    <tr>\n",
       "      <th>4</th>\n",
       "      <td>[hamburger meat, candles]</td>\n",
       "    </tr>\n",
       "  </tbody>\n",
       "</table>\n",
       "</div>"
      ],
      "text/plain": [
       "                                     Compra\n",
       "0                    [citrus fruit, coffee]\n",
       "1                              [curd, soda]\n",
       "2                [other vegetables, yogurt]\n",
       "3  [specialty chocolate, frozen vegetables]\n",
       "4                 [hamburger meat, candles]"
      ]
     },
     "execution_count": 18,
     "metadata": {},
     "output_type": "execute_result"
    }
   ],
   "source": [
    "new_data.head()"
   ]
  },
  {
   "cell_type": "markdown",
   "metadata": {},
   "source": [
    "**Se notó la presencia de elementos repetidos, por lo que se porcedió a limpiarlos. Nos importan los elementos únicos, no las cantidades.**"
   ]
  },
  {
   "cell_type": "code",
   "execution_count": 19,
   "metadata": {},
   "outputs": [],
   "source": [
    "data_clean = pd.DataFrame(data = {'Compra':new_data['Compra'].apply(set)})\n",
    "data_clean = data_clean['Compra'].apply(list).to_frame()"
   ]
  },
  {
   "cell_type": "code",
   "execution_count": 20,
   "metadata": {},
   "outputs": [
    {
     "data": {
      "text/html": [
       "<div>\n",
       "<style scoped>\n",
       "    .dataframe tbody tr th:only-of-type {\n",
       "        vertical-align: middle;\n",
       "    }\n",
       "\n",
       "    .dataframe tbody tr th {\n",
       "        vertical-align: top;\n",
       "    }\n",
       "\n",
       "    .dataframe thead th {\n",
       "        text-align: right;\n",
       "    }\n",
       "</style>\n",
       "<table border=\"1\" class=\"dataframe\">\n",
       "  <thead>\n",
       "    <tr style=\"text-align: right;\">\n",
       "      <th></th>\n",
       "      <th>Compra</th>\n",
       "    </tr>\n",
       "  </thead>\n",
       "  <tbody>\n",
       "    <tr>\n",
       "      <th>0</th>\n",
       "      <td>[citrus fruit, coffee]</td>\n",
       "    </tr>\n",
       "    <tr>\n",
       "      <th>1</th>\n",
       "      <td>[soda, curd]</td>\n",
       "    </tr>\n",
       "    <tr>\n",
       "      <th>2</th>\n",
       "      <td>[other vegetables, yogurt]</td>\n",
       "    </tr>\n",
       "    <tr>\n",
       "      <th>3</th>\n",
       "      <td>[specialty chocolate, frozen vegetables]</td>\n",
       "    </tr>\n",
       "    <tr>\n",
       "      <th>4</th>\n",
       "      <td>[candles, hamburger meat]</td>\n",
       "    </tr>\n",
       "  </tbody>\n",
       "</table>\n",
       "</div>"
      ],
      "text/plain": [
       "                                     Compra\n",
       "0                    [citrus fruit, coffee]\n",
       "1                              [soda, curd]\n",
       "2                [other vegetables, yogurt]\n",
       "3  [specialty chocolate, frozen vegetables]\n",
       "4                 [candles, hamburger meat]"
      ]
     },
     "execution_count": 20,
     "metadata": {},
     "output_type": "execute_result"
    }
   ],
   "source": [
    "data_clean.head()"
   ]
  },
  {
   "cell_type": "markdown",
   "metadata": {},
   "source": [
    "## En este punto ya contamos con nuestros tickets completos y sin repeticiones"
   ]
  },
  {
   "cell_type": "code",
   "execution_count": 21,
   "metadata": {},
   "outputs": [],
   "source": [
    "def Cuenta_Max(compras):\n",
    "    '''\n",
    "    @Autor: \n",
    "    Jonathan Martiñón\n",
    "    \n",
    "    @Descripción:\n",
    "    Función auxiliar encargada de recibir una lista de listas y \n",
    "    devolver la longitud de la lista más grande, sus elementos y\n",
    "    la posición en la que se encontró\n",
    "    \n",
    "    @Parámetros:\n",
    "    \n",
    "    compras      Lista de listas que contiene diversas compras.   LIST\n",
    "    \n",
    "    @Ejemplo:\n",
    "    \n",
    "    #Lista con 3 compras (listas):\n",
    "    compras = [ ['Aguacate','Lechuga','Jitomate'], ['Agua'], ['Refresco','Chocolates'] ]\n",
    "    \n",
    "    Cuenta_Max(compras)\n",
    "    >>> (3,['Aguacate','Lechuga','Jitomate'],0)\n",
    "    \n",
    "    '''\n",
    "    maximo = 0\n",
    "    ticket = ''\n",
    "    for i in range(len(compras)):\n",
    "        if len(compras[i]) > maximo:\n",
    "            maximo = len(compras[i])\n",
    "            ticket = compras[i]\n",
    "            k = i\n",
    "    return maximo, ticket,k"
   ]
  },
  {
   "cell_type": "code",
   "execution_count": 22,
   "metadata": {},
   "outputs": [],
   "source": [
    "aux = Cuenta_Max(data_clean['Compra'])"
   ]
  },
  {
   "cell_type": "code",
   "execution_count": 23,
   "metadata": {},
   "outputs": [
    {
     "name": "stdout",
     "output_type": "stream",
     "text": [
      "Anteriormente teníamos: 38765 ventas individuales registradas\n",
      "Ahora contamos con: 14963 tickets de compras agrupadas.\n",
      "\n",
      "La compra más grande fue de: 10 elementos\n",
      "Se compraron:\n",
      "['specialty bar', 'other vegetables', 'beverages', 'sausage', 'pip fruit', 'rolls/buns', 'curd', 'soft cheese', 'newspapers', 'yogurt']\n"
     ]
    }
   ],
   "source": [
    "print(f\"Anteriormente teníamos: {data.shape[0]} ventas individuales registradas\")\n",
    "print(f\"Ahora contamos con: {data_clean.shape[0]} tickets de compras agrupadas.\\n\")\n",
    "\n",
    "print(f\"La compra más grande fue de: {aux[0]} elementos\\nSe compraron:\\n{aux[1]}\")"
   ]
  },
  {
   "cell_type": "markdown",
   "metadata": {},
   "source": [
    "### Teniendo en cuenta que el mayor número de productos juntos que se compraron fueron 10, y por lógica el menor debía ser 1, se graficó la distribución de las ventas"
   ]
  },
  {
   "cell_type": "code",
   "execution_count": 24,
   "metadata": {},
   "outputs": [],
   "source": [
    "ventas =[]\n",
    "for venta in data_clean['Compra']:\n",
    "    ventas.append(len(venta))"
   ]
  },
  {
   "cell_type": "code",
   "execution_count": 25,
   "metadata": {},
   "outputs": [],
   "source": [
    "ventas = Counter(ventas)"
   ]
  },
  {
   "cell_type": "code",
   "execution_count": 26,
   "metadata": {},
   "outputs": [
    {
     "data": {
      "image/png": "[encoded data removed]",
      "text/plain": [
       "<Figure size 432x288 with 1 Axes>"
      ]
     },
     "metadata": {
      "needs_background": "light"
     },
     "output_type": "display_data"
    }
   ],
   "source": [
    "fig, ax = plt.subplots()\n",
    "\n",
    "idx = np.argsort(list(ventas.values()))[::-1]\n",
    "\n",
    "vent = np.fromiter(ventas.values(),int)\n",
    "key = np.fromiter(ventas.keys(),int).astype(str)\n",
    "\n",
    "plt.bar(key[idx],vent[idx])\n",
    "plt.yscale('log')\n",
    "plt.xticks(key[idx])\n",
    "plt.title('Comparación de ventas por ticket\\n(Escala logarítmica)')\n",
    "plt.xlabel('Venta de productos')\n",
    "plt.ylabel('Frecuencia')\n",
    "plt.show()"
   ]
  },
  {
   "cell_type": "code",
   "execution_count": 27,
   "metadata": {},
   "outputs": [
    {
     "data": {
      "text/plain": [
       "Counter({2: 10012,\n",
       "         3: 2727,\n",
       "         4: 1273,\n",
       "         1: 205,\n",
       "         6: 179,\n",
       "         5: 338,\n",
       "         8: 96,\n",
       "         9: 19,\n",
       "         7: 113,\n",
       "         10: 1})"
      ]
     },
     "execution_count": 27,
     "metadata": {},
     "output_type": "execute_result"
    }
   ],
   "source": [
    "ventas"
   ]
  },
  {
   "cell_type": "markdown",
   "metadata": {},
   "source": [
    "### De igual forma procedimos con los productos"
   ]
  },
  {
   "cell_type": "code",
   "execution_count": 28,
   "metadata": {},
   "outputs": [],
   "source": [
    "prod = Counter(data['itemDescription'])"
   ]
  },
  {
   "cell_type": "code",
   "execution_count": 29,
   "metadata": {},
   "outputs": [
    {
     "data": {
      "image/png": "[encoded data removed]",
      "text/plain": [
       "<Figure size 432x288 with 1 Axes>"
      ]
     },
     "metadata": {
      "needs_background": "light"
     },
     "output_type": "display_data"
    }
   ],
   "source": [
    "fig, ax = plt.subplots()\n",
    "\n",
    "productos = prod.most_common(10)\n",
    "\n",
    "p = [x for x,_ in productos]\n",
    "v = [x for _,x in productos]\n",
    "plt.bar(p,v)\n",
    "# plt.yscale('log')\n",
    "plt.xticks(p,rotation=90)\n",
    "plt.title('Comparación de ventas de producto INDIVIDUALES\\n(Escala logarítmica)')\n",
    "plt.xlabel('Venta de productos')\n",
    "plt.ylabel('Frecuencia')\n",
    "plt.show()"
   ]
  },
  {
   "cell_type": "code",
   "execution_count": 30,
   "metadata": {},
   "outputs": [
    {
     "data": {
      "text/plain": [
       "[('whole milk', 2502),\n",
       " ('other vegetables', 1898),\n",
       " ('rolls/buns', 1716),\n",
       " ('soda', 1514),\n",
       " ('yogurt', 1334),\n",
       " ('root vegetables', 1071),\n",
       " ('tropical fruit', 1032),\n",
       " ('bottled water', 933),\n",
       " ('sausage', 924),\n",
       " ('citrus fruit', 812)]"
      ]
     },
     "execution_count": 30,
     "metadata": {},
     "output_type": "execute_result"
    }
   ],
   "source": [
    "productos"
   ]
  },
  {
   "cell_type": "markdown",
   "metadata": {},
   "source": [
    "# Realizando el algoritmo\n",
    "Una vez que exploramos, limpiamos y nos familiarizamos con los datos, procederemos a aplicar el algoritmo de FP-Tree"
   ]
  },
  {
   "cell_type": "code",
   "execution_count": 31,
   "metadata": {},
   "outputs": [
    {
     "data": {
      "text/html": [
       "<div>\n",
       "<style scoped>\n",
       "    .dataframe tbody tr th:only-of-type {\n",
       "        vertical-align: middle;\n",
       "    }\n",
       "\n",
       "    .dataframe tbody tr th {\n",
       "        vertical-align: top;\n",
       "    }\n",
       "\n",
       "    .dataframe thead th {\n",
       "        text-align: right;\n",
       "    }\n",
       "</style>\n",
       "<table border=\"1\" class=\"dataframe\">\n",
       "  <thead>\n",
       "    <tr style=\"text-align: right;\">\n",
       "      <th></th>\n",
       "      <th>Compra</th>\n",
       "    </tr>\n",
       "  </thead>\n",
       "  <tbody>\n",
       "    <tr>\n",
       "      <th>0</th>\n",
       "      <td>[citrus fruit, coffee]</td>\n",
       "    </tr>\n",
       "    <tr>\n",
       "      <th>1</th>\n",
       "      <td>[soda, curd]</td>\n",
       "    </tr>\n",
       "    <tr>\n",
       "      <th>2</th>\n",
       "      <td>[other vegetables, yogurt]</td>\n",
       "    </tr>\n",
       "    <tr>\n",
       "      <th>3</th>\n",
       "      <td>[specialty chocolate, frozen vegetables]</td>\n",
       "    </tr>\n",
       "    <tr>\n",
       "      <th>4</th>\n",
       "      <td>[candles, hamburger meat]</td>\n",
       "    </tr>\n",
       "  </tbody>\n",
       "</table>\n",
       "</div>"
      ],
      "text/plain": [
       "                                     Compra\n",
       "0                    [citrus fruit, coffee]\n",
       "1                              [soda, curd]\n",
       "2                [other vegetables, yogurt]\n",
       "3  [specialty chocolate, frozen vegetables]\n",
       "4                 [candles, hamburger meat]"
      ]
     },
     "execution_count": 31,
     "metadata": {},
     "output_type": "execute_result"
    }
   ],
   "source": [
    "data_clean.head()"
   ]
  },
  {
   "cell_type": "code",
   "execution_count": 32,
   "metadata": {},
   "outputs": [],
   "source": [
    "def Elemento_en_lista(l1,l2):\n",
    "    '''\n",
    "    @Author:\n",
    "    Jonathan Martiñón\n",
    "    \n",
    "    @Descripción:\n",
    "    Función que recibe 2 listas y realiza una comparación entre\n",
    "    ellas para ver si tiene al menos 1 elemento en común con \n",
    "    la otra lista. En caso afirmativo devolverá un TRUE. \n",
    "    No será necesario evaluar toda la lista en caso de existir\n",
    "    un valor común, al encontrar el primero, devolverá True y \n",
    "    romperá el ciclo.\n",
    "    \n",
    "    @Parámetros:\n",
    "    l1        Lista con valores a verificar                    LIST\n",
    "    l2        Lista base dónde queremos identificar valores    LIST\n",
    "    \n",
    "    @Ejemplo:\n",
    "    ---------------------------\n",
    "    l1 = [1,2,3]\n",
    "    l2 = ['a','b',2]\n",
    "    \n",
    "    Elemento_en_lista(l1,l2)\n",
    "    >>> True\n",
    "    \n",
    "    --------------------------\n",
    "    \n",
    "    l1 = [1,2,3]\n",
    "    l2 = ['a','b','c']\n",
    "    \n",
    "    Elemento_en_lista(l1,l2)\n",
    "    >>> False\n",
    "    ---------------------------\n",
    "    '''\n",
    "    \n",
    "    for element in l1:\n",
    "        if element in l2:\n",
    "            return True\n",
    "    return False\n",
    "    "
   ]
  },
  {
   "cell_type": "code",
   "execution_count": 33,
   "metadata": {},
   "outputs": [],
   "source": [
    "def Fp_Tree(datos,min_sup):\n",
    "    '''\n",
    "    @Autor:\n",
    "    Jonathan Martiñón\n",
    "    \n",
    "    @Descripción:\n",
    "    Función encargada de aplicar el algoritmo FP-Tree a partir de\n",
    "    una lista de compras y un soporte mínimo.\n",
    "    Devuelve el tiempo de ejecución y un dataframe con las compras\n",
    "    ordenadas que cumplieron con el soporte\n",
    "    \n",
    "    @Parámetros:\n",
    "    datos       Lista de compras        LIST\n",
    "    min_sup     Soporte mínimo          FLOAT\n",
    "    \n",
    "    @Ejemplo:\n",
    "    datos=[['Leche','Pan'],['Huevos','Leche'],['Leche'],['Harina','Pan'],['Mantequilla','Sopa']]\n",
    "    \n",
    "    Fp_Tree(datos = datos,min_sup=0.4)\n",
    "    \n",
    "    >>>(  Compras Frecuentes\n",
    "         0       [Leche, Pan]\n",
    "         1            [Leche]\n",
    "         2            [Leche]\n",
    "         3              [Pan],\n",
    "         0.023)\n",
    "    '''\n",
    "    \n",
    "    start_time = time() # Contaremos el tiempo que tarde\n",
    "    \n",
    "    Freqs = Counter()\n",
    "    for compra in datos:    \n",
    "        Freqs.update(compra)\n",
    "        \n",
    "    data_aux = pd.DataFrame(data={'item':list(Freqs.keys()),'Freq':list(Freqs.values())})\n",
    "    \n",
    "    aux = []\n",
    "    for freq in data_aux['Freq']:\n",
    "        aux.append(freq/len(datos))\n",
    "        \n",
    "    data_aux['Min_sup'] = aux\n",
    "    \n",
    "    aux = data_aux[data_aux['Min_sup']>=min_sup]\n",
    "    \n",
    "    aux = aux.sort_values(by = ['Min_sup'],ascending=False).reset_index(drop=True)\n",
    "    \n",
    "    prod_Freqs = list(aux['item'])\n",
    "    \n",
    "    new_Freqs = pd.DataFrame(columns=['Compras Frecuentes'])\n",
    "\n",
    "    for compra in datos:\n",
    "\n",
    "        # Si nuestra lista contiene al menos un elemento frecuente\n",
    "        # procedemos a analizarlo, de otra forma no tiene sentido.\n",
    "        \n",
    "        if Elemento_en_lista(compra,prod_Freqs,):\n",
    "            \n",
    "            p = [] #Posición\n",
    "            v = [] #Valor\n",
    "            \n",
    "            for producto in compra:\n",
    "                \n",
    "\n",
    "                if producto in prod_Freqs:\n",
    "\n",
    "                    p.append(prod_Freqs.index(producto)) # Almacenamos su posición\n",
    "                    \n",
    "                    v.append(producto) # Almacenamos su valor\n",
    "            \n",
    "            idx = np.argsort(p)\n",
    "            \n",
    "            new_Freqs.loc[len(new_Freqs)] = [np.array(v)[idx]]\n",
    "    \n",
    "    return new_Freqs, round(time() - start_time,3)"
   ]
  },
  {
   "cell_type": "markdown",
   "metadata": {},
   "source": [
    "# Probando el algoritmo con soportes 0. 1, 0.01, 0.05, 0.08"
   ]
  },
  {
   "cell_type": "code",
   "execution_count": 34,
   "metadata": {},
   "outputs": [
    {
     "name": "stdout",
     "output_type": "stream",
     "text": [
      "Tardó 11.499 segundos\n",
      "Se encontraron 5265 elementos que cumplen el soporte\n",
      "La compra más grande fue de: 3 elementos\n",
      "Se compraron:\n",
      "['whole milk' 'other vegetables' 'rolls/buns']\n"
     ]
    },
    {
     "data": {
      "text/html": [
       "<div>\n",
       "<style scoped>\n",
       "    .dataframe tbody tr th:only-of-type {\n",
       "        vertical-align: middle;\n",
       "    }\n",
       "\n",
       "    .dataframe tbody tr th {\n",
       "        vertical-align: top;\n",
       "    }\n",
       "\n",
       "    .dataframe thead th {\n",
       "        text-align: right;\n",
       "    }\n",
       "</style>\n",
       "<table border=\"1\" class=\"dataframe\">\n",
       "  <thead>\n",
       "    <tr style=\"text-align: right;\">\n",
       "      <th></th>\n",
       "      <th>Compras Frecuentes</th>\n",
       "    </tr>\n",
       "  </thead>\n",
       "  <tbody>\n",
       "    <tr>\n",
       "      <th>0</th>\n",
       "      <td>[other vegetables]</td>\n",
       "    </tr>\n",
       "    <tr>\n",
       "      <th>1</th>\n",
       "      <td>[other vegetables]</td>\n",
       "    </tr>\n",
       "    <tr>\n",
       "      <th>2</th>\n",
       "      <td>[whole milk]</td>\n",
       "    </tr>\n",
       "    <tr>\n",
       "      <th>3</th>\n",
       "      <td>[whole milk]</td>\n",
       "    </tr>\n",
       "    <tr>\n",
       "      <th>4</th>\n",
       "      <td>[other vegetables]</td>\n",
       "    </tr>\n",
       "    <tr>\n",
       "      <th>5</th>\n",
       "      <td>[other vegetables]</td>\n",
       "    </tr>\n",
       "    <tr>\n",
       "      <th>6</th>\n",
       "      <td>[rolls/buns]</td>\n",
       "    </tr>\n",
       "    <tr>\n",
       "      <th>7</th>\n",
       "      <td>[whole milk]</td>\n",
       "    </tr>\n",
       "    <tr>\n",
       "      <th>8</th>\n",
       "      <td>[whole milk, rolls/buns]</td>\n",
       "    </tr>\n",
       "    <tr>\n",
       "      <th>9</th>\n",
       "      <td>[whole milk]</td>\n",
       "    </tr>\n",
       "  </tbody>\n",
       "</table>\n",
       "</div>"
      ],
      "text/plain": [
       "         Compras Frecuentes\n",
       "0        [other vegetables]\n",
       "1        [other vegetables]\n",
       "2              [whole milk]\n",
       "3              [whole milk]\n",
       "4        [other vegetables]\n",
       "5        [other vegetables]\n",
       "6              [rolls/buns]\n",
       "7              [whole milk]\n",
       "8  [whole milk, rolls/buns]\n",
       "9              [whole milk]"
      ]
     },
     "execution_count": 34,
     "metadata": {},
     "output_type": "execute_result"
    }
   ],
   "source": [
    "Aux = Fp_Tree(data_clean['Compra'],0.1)\n",
    "aux = Cuenta_Max(Aux[0]['Compras Frecuentes'])\n",
    "\n",
    "print(f\"Tardó {Aux[1]} segundos\")\n",
    "print(f\"Se encontraron {Aux[0].shape[0]} elementos que cumplen el soporte\")\n",
    "print(f\"La compra más grande fue de: {aux[0]} elementos\\nSe compraron:\\n{aux[1]}\")\n",
    "Aux[0].head(10)"
   ]
  },
  {
   "cell_type": "code",
   "execution_count": 35,
   "metadata": {},
   "outputs": [
    {
     "name": "stdout",
     "output_type": "stream",
     "text": [
      "Tardó 36.585 segundos\n",
      "Se encontraron 14779 elementos que cumplen el soporte\n",
      "La compra más grande fue de: 10 elementos\n",
      "Se compraron:\n",
      "['other vegetables' 'rolls/buns' 'yogurt' 'sausage' 'pip fruit'\n",
      " 'newspapers' 'curd' 'beverages' 'specialty bar' 'soft cheese']\n"
     ]
    },
    {
     "data": {
      "text/html": [
       "<div>\n",
       "<style scoped>\n",
       "    .dataframe tbody tr th:only-of-type {\n",
       "        vertical-align: middle;\n",
       "    }\n",
       "\n",
       "    .dataframe tbody tr th {\n",
       "        vertical-align: top;\n",
       "    }\n",
       "\n",
       "    .dataframe thead th {\n",
       "        text-align: right;\n",
       "    }\n",
       "</style>\n",
       "<table border=\"1\" class=\"dataframe\">\n",
       "  <thead>\n",
       "    <tr style=\"text-align: right;\">\n",
       "      <th></th>\n",
       "      <th>Compras Frecuentes</th>\n",
       "    </tr>\n",
       "  </thead>\n",
       "  <tbody>\n",
       "    <tr>\n",
       "      <th>0</th>\n",
       "      <td>[citrus fruit, coffee]</td>\n",
       "    </tr>\n",
       "    <tr>\n",
       "      <th>1</th>\n",
       "      <td>[soda, curd]</td>\n",
       "    </tr>\n",
       "    <tr>\n",
       "      <th>2</th>\n",
       "      <td>[other vegetables, yogurt]</td>\n",
       "    </tr>\n",
       "    <tr>\n",
       "      <th>3</th>\n",
       "      <td>[frozen vegetables, specialty chocolate]</td>\n",
       "    </tr>\n",
       "    <tr>\n",
       "      <th>4</th>\n",
       "      <td>[hamburger meat]</td>\n",
       "    </tr>\n",
       "    <tr>\n",
       "      <th>5</th>\n",
       "      <td>[other vegetables, tropical fruit]</td>\n",
       "    </tr>\n",
       "    <tr>\n",
       "      <th>6</th>\n",
       "      <td>[bottled water, sausage]</td>\n",
       "    </tr>\n",
       "    <tr>\n",
       "      <th>7</th>\n",
       "      <td>[bottled water]</td>\n",
       "    </tr>\n",
       "    <tr>\n",
       "      <th>8</th>\n",
       "      <td>[shopping bags]</td>\n",
       "    </tr>\n",
       "    <tr>\n",
       "      <th>9</th>\n",
       "      <td>[bottled water, sliced cheese]</td>\n",
       "    </tr>\n",
       "  </tbody>\n",
       "</table>\n",
       "</div>"
      ],
      "text/plain": [
       "                         Compras Frecuentes\n",
       "0                    [citrus fruit, coffee]\n",
       "1                              [soda, curd]\n",
       "2                [other vegetables, yogurt]\n",
       "3  [frozen vegetables, specialty chocolate]\n",
       "4                          [hamburger meat]\n",
       "5        [other vegetables, tropical fruit]\n",
       "6                  [bottled water, sausage]\n",
       "7                           [bottled water]\n",
       "8                           [shopping bags]\n",
       "9            [bottled water, sliced cheese]"
      ]
     },
     "execution_count": 35,
     "metadata": {},
     "output_type": "execute_result"
    }
   ],
   "source": [
    "Aux = Fp_Tree(data_clean['Compra'],0.01)\n",
    "aux = Cuenta_Max(Aux[0]['Compras Frecuentes'])\n",
    "\n",
    "print(f\"Tardó {Aux[1]} segundos\")\n",
    "print(f\"Se encontraron {Aux[0].shape[0]} elementos que cumplen el soporte\")\n",
    "print(f\"La compra más grande fue de: {aux[0]} elementos\\nSe compraron:\\n{aux[1]}\")\n",
    "Aux[0].head(10)"
   ]
  },
  {
   "cell_type": "code",
   "execution_count": 36,
   "metadata": {},
   "outputs": [
    {
     "name": "stdout",
     "output_type": "stream",
     "text": [
      "Tardó 23.448 segundos\n",
      "Se encontraron 10174 elementos que cumplen el soporte\n",
      "La compra más grande fue de: 6 elementos\n",
      "Se compraron:\n",
      "['whole milk' 'other vegetables' 'rolls/buns' 'soda' 'sausage' 'pastry']\n"
     ]
    },
    {
     "data": {
      "text/html": [
       "<div>\n",
       "<style scoped>\n",
       "    .dataframe tbody tr th:only-of-type {\n",
       "        vertical-align: middle;\n",
       "    }\n",
       "\n",
       "    .dataframe tbody tr th {\n",
       "        vertical-align: top;\n",
       "    }\n",
       "\n",
       "    .dataframe thead th {\n",
       "        text-align: right;\n",
       "    }\n",
       "</style>\n",
       "<table border=\"1\" class=\"dataframe\">\n",
       "  <thead>\n",
       "    <tr style=\"text-align: right;\">\n",
       "      <th></th>\n",
       "      <th>Compras Frecuentes</th>\n",
       "    </tr>\n",
       "  </thead>\n",
       "  <tbody>\n",
       "    <tr>\n",
       "      <th>0</th>\n",
       "      <td>[citrus fruit]</td>\n",
       "    </tr>\n",
       "    <tr>\n",
       "      <th>1</th>\n",
       "      <td>[soda]</td>\n",
       "    </tr>\n",
       "    <tr>\n",
       "      <th>2</th>\n",
       "      <td>[other vegetables, yogurt]</td>\n",
       "    </tr>\n",
       "    <tr>\n",
       "      <th>3</th>\n",
       "      <td>[other vegetables, tropical fruit]</td>\n",
       "    </tr>\n",
       "    <tr>\n",
       "      <th>4</th>\n",
       "      <td>[bottled water, sausage]</td>\n",
       "    </tr>\n",
       "    <tr>\n",
       "      <th>5</th>\n",
       "      <td>[bottled water]</td>\n",
       "    </tr>\n",
       "    <tr>\n",
       "      <th>6</th>\n",
       "      <td>[bottled water]</td>\n",
       "    </tr>\n",
       "    <tr>\n",
       "      <th>7</th>\n",
       "      <td>[yogurt]</td>\n",
       "    </tr>\n",
       "    <tr>\n",
       "      <th>8</th>\n",
       "      <td>[whole milk]</td>\n",
       "    </tr>\n",
       "    <tr>\n",
       "      <th>9</th>\n",
       "      <td>[bottled water]</td>\n",
       "    </tr>\n",
       "  </tbody>\n",
       "</table>\n",
       "</div>"
      ],
      "text/plain": [
       "                   Compras Frecuentes\n",
       "0                      [citrus fruit]\n",
       "1                              [soda]\n",
       "2          [other vegetables, yogurt]\n",
       "3  [other vegetables, tropical fruit]\n",
       "4            [bottled water, sausage]\n",
       "5                     [bottled water]\n",
       "6                     [bottled water]\n",
       "7                            [yogurt]\n",
       "8                        [whole milk]\n",
       "9                     [bottled water]"
      ]
     },
     "execution_count": 36,
     "metadata": {},
     "output_type": "execute_result"
    }
   ],
   "source": [
    "Aux = Fp_Tree(data_clean['Compra'],0.05)\n",
    "aux = Cuenta_Max(Aux[0]['Compras Frecuentes'])\n",
    "\n",
    "print(f\"Tardó {Aux[1]} segundos\")\n",
    "print(f\"Se encontraron {Aux[0].shape[0]} elementos que cumplen el soporte\")\n",
    "print(f\"La compra más grande fue de: {aux[0]} elementos\\nSe compraron:\\n{aux[1]}\")\n",
    "Aux[0].head(10)"
   ]
  },
  {
   "cell_type": "code",
   "execution_count": 37,
   "metadata": {},
   "outputs": [
    {
     "name": "stdout",
     "output_type": "stream",
     "text": [
      "Tardó 18.565 segundos\n",
      "Se encontraron 7186 elementos que cumplen el soporte\n",
      "La compra más grande fue de: 4 elementos\n",
      "Se compraron:\n",
      "['whole milk' 'rolls/buns' 'soda' 'yogurt']\n"
     ]
    },
    {
     "data": {
      "text/html": [
       "<div>\n",
       "<style scoped>\n",
       "    .dataframe tbody tr th:only-of-type {\n",
       "        vertical-align: middle;\n",
       "    }\n",
       "\n",
       "    .dataframe tbody tr th {\n",
       "        vertical-align: top;\n",
       "    }\n",
       "\n",
       "    .dataframe thead th {\n",
       "        text-align: right;\n",
       "    }\n",
       "</style>\n",
       "<table border=\"1\" class=\"dataframe\">\n",
       "  <thead>\n",
       "    <tr style=\"text-align: right;\">\n",
       "      <th></th>\n",
       "      <th>Compras Frecuentes</th>\n",
       "    </tr>\n",
       "  </thead>\n",
       "  <tbody>\n",
       "    <tr>\n",
       "      <th>0</th>\n",
       "      <td>[soda]</td>\n",
       "    </tr>\n",
       "    <tr>\n",
       "      <th>1</th>\n",
       "      <td>[other vegetables, yogurt]</td>\n",
       "    </tr>\n",
       "    <tr>\n",
       "      <th>2</th>\n",
       "      <td>[other vegetables]</td>\n",
       "    </tr>\n",
       "    <tr>\n",
       "      <th>3</th>\n",
       "      <td>[yogurt]</td>\n",
       "    </tr>\n",
       "    <tr>\n",
       "      <th>4</th>\n",
       "      <td>[whole milk]</td>\n",
       "    </tr>\n",
       "    <tr>\n",
       "      <th>5</th>\n",
       "      <td>[whole milk]</td>\n",
       "    </tr>\n",
       "    <tr>\n",
       "      <th>6</th>\n",
       "      <td>[other vegetables, yogurt]</td>\n",
       "    </tr>\n",
       "    <tr>\n",
       "      <th>7</th>\n",
       "      <td>[yogurt]</td>\n",
       "    </tr>\n",
       "    <tr>\n",
       "      <th>8</th>\n",
       "      <td>[soda]</td>\n",
       "    </tr>\n",
       "    <tr>\n",
       "      <th>9</th>\n",
       "      <td>[other vegetables]</td>\n",
       "    </tr>\n",
       "  </tbody>\n",
       "</table>\n",
       "</div>"
      ],
      "text/plain": [
       "           Compras Frecuentes\n",
       "0                      [soda]\n",
       "1  [other vegetables, yogurt]\n",
       "2          [other vegetables]\n",
       "3                    [yogurt]\n",
       "4                [whole milk]\n",
       "5                [whole milk]\n",
       "6  [other vegetables, yogurt]\n",
       "7                    [yogurt]\n",
       "8                      [soda]\n",
       "9          [other vegetables]"
      ]
     },
     "execution_count": 37,
     "metadata": {},
     "output_type": "execute_result"
    }
   ],
   "source": [
    "Aux = Fp_Tree(data_clean['Compra'],0.08)\n",
    "aux = Cuenta_Max(Aux[0]['Compras Frecuentes'])\n",
    "\n",
    "print(f\"Tardó {Aux[1]} segundos\")\n",
    "print(f\"Se encontraron {Aux[0].shape[0]} elementos que cumplen el soporte\")\n",
    "print(f\"La compra más grande fue de: {aux[0]} elementos\\nSe compraron:\\n{aux[1]}\")\n",
    "Aux[0].head(10)"
   ]
  }
 ],
 "metadata": {
  "kernelspec": {
   "display_name": "Python 3",
   "language": "python",
   "name": "python3"
  },
  "language_info": {
   "codemirror_mode": {
    "name": "ipython",
    "version": 3
   },
   "file_extension": ".py",
   "mimetype": "text/x-python",
   "name": "python",
   "nbconvert_exporter": "python",
   "pygments_lexer": "ipython3",
   "version": "3.8.3"
  }
 },
 "nbformat": 4,
 "nbformat_minor": 4
}
